{
  "cells": [
    {
      "cell_type": "code",
      "execution_count": null,
      "metadata": {
        "collapsed": false
      },
      "outputs": [],
      "source": [
        "%matplotlib inline"
      ]
    },
    {
      "cell_type": "markdown",
      "metadata": {},
      "source": [
        "\nRemove background noise from audio with signal processing tools\n===============================================================\n\nThis example shows different ways to remove background noise directly from\nthe spectrogram.\nWe use the sharpness metric to have a quantitative estimation of how well is \nthe noise reduction. This metric gives partial information. Other metrics \nshould be use in complement.\n"
      ]
    },
    {
      "cell_type": "code",
      "execution_count": null,
      "metadata": {
        "collapsed": false
      },
      "outputs": [],
      "source": [
        "# sphinx_gallery_thumbnail_path = '../_images/sphx_glr_remove_background.png'\n\nfrom maad.util import plot2D, power2dB\nfrom maad.sound import (load, spectrogram, \n                       remove_background, median_equalizer, \n                       remove_background_morpho, \n                       remove_background_along_axis, sharpness)\nimport numpy as np\n\nfrom timeit import default_timer as timer\n\nimport matplotlib.pyplot as plt"
      ]
    },
    {
      "cell_type": "markdown",
      "metadata": {},
      "source": [
        "First, we load the audio file and take its spectrogram.\nThe linear spectrogram is then transformed into dB. The dB range is  96dB \nwhich is the maximum dB range value for a 16bits audio recording. We add\n96dB in order to get have only positive values in the spectrogram\n\n"
      ]
    },
    {
      "cell_type": "code",
      "execution_count": null,
      "metadata": {
        "collapsed": false
      },
      "outputs": [],
      "source": [
        "s, fs = load('../data/tropical_forest_morning.wav')\n#s, fs = load('../data/cold_forest_night.wav')\nSxx, tn, fn, ext = spectrogram(s, fs, fcrop=[0,20000], tcrop=[0,60])\nSxx_dB = power2dB(Sxx, db_range=96) + 96"
      ]
    },
    {
      "cell_type": "markdown",
      "metadata": {},
      "source": [
        "We plot the original spectrogram.\n\n"
      ]
    },
    {
      "cell_type": "code",
      "execution_count": null,
      "metadata": {
        "collapsed": false
      },
      "outputs": [],
      "source": [
        "plot2D(Sxx_dB, extent=ext, title='original',\n       vmin=np.median(Sxx_dB), vmax=np.median(Sxx_dB)+40)\n\nprint (\"Original sharpness : %2.3f\" % sharpness(Sxx_dB))"
      ]
    },
    {
      "cell_type": "markdown",
      "metadata": {},
      "source": [
        "Test the function \"remove_background\"\n\n"
      ]
    },
    {
      "cell_type": "code",
      "execution_count": null,
      "metadata": {
        "collapsed": false
      },
      "outputs": [],
      "source": [
        "start = timer()\nX1, noise_profile1, _ = remove_background(Sxx_dB)\nelapsed_time = timer() - start\nprint(\"---- test remove_background -----\")\nprint(\"duration %2.3f s\" % elapsed_time)\nprint (\"sharpness : %2.3f\" % sharpness(X1))\n\nplot2D(X1, extent=ext, title='remove_background',\n       vmin=np.median(X1), vmax=np.median(X1)+40)"
      ]
    },
    {
      "cell_type": "markdown",
      "metadata": {},
      "source": [
        "Test the function \"median_equalizer\"\n\n"
      ]
    },
    {
      "cell_type": "code",
      "execution_count": null,
      "metadata": {
        "collapsed": false
      },
      "outputs": [],
      "source": [
        "start = timer()\nX2 = median_equalizer(Sxx)\nX2 = power2dB(X2)\nelapsed_time = timer() - start\nprint(\"---- test median_equalizer -----\")\nprint(\"duration %2.3f s\" % elapsed_time)\nprint (\"sharpness : %2.3f\" %sharpness(X2))\n\nplot2D(X2,extent=ext, title='median_equalizer',\n       vmin=np.median(X2), vmax=np.median(X2)+40)"
      ]
    },
    {
      "cell_type": "markdown",
      "metadata": {},
      "source": [
        "Test the function \"remove_background_morpho\"\n\n"
      ]
    },
    {
      "cell_type": "code",
      "execution_count": null,
      "metadata": {
        "collapsed": false
      },
      "outputs": [],
      "source": [
        "start = timer()\nX3, noise_profile3,_ = remove_background_morpho(Sxx_dB, q=0.95) \nelapsed_time = timer() - start\nprint(\"---- test remove_background_morpho -----\")\nprint(\"duration %2.3f s\" % elapsed_time)\nprint (\"sharpness : %2.3f\" %sharpness(X3))\n\nplot2D(X3, extent=ext, title='remove_background_morpho',\n       vmin=np.median(X3), vmax=np.median(X3)+40)"
      ]
    },
    {
      "cell_type": "markdown",
      "metadata": {},
      "source": [
        "Test the function \"remove_background_along_axis\"\n\n"
      ]
    },
    {
      "cell_type": "code",
      "execution_count": null,
      "metadata": {
        "collapsed": false
      },
      "outputs": [],
      "source": [
        "start = timer()\nX4, noise_profile4 = remove_background_along_axis(Sxx_dB,mode='median', axis=1) \n#X4 = power2dB(X4) \nelapsed_time = timer() - start\nprint(\"---- test remove_background_along_axis -----\")\nprint(\"duration %2.3f s\" % elapsed_time)\nprint (\"sharpness : %2.3f\" %sharpness(X4))\n\nplot2D(X4,  extent=ext, title='remove_background_along_axis',\n       vmin=np.median(X4), vmax=np.median(X4)+40)\n\nplt.tight_layout()"
      ]
    }
  ],
  "metadata": {
    "kernelspec": {
      "display_name": "Python 3",
      "language": "python",
      "name": "python3"
    },
    "language_info": {
      "codemirror_mode": {
        "name": "ipython",
        "version": 3
      },
      "file_extension": ".py",
      "mimetype": "text/x-python",
      "name": "python",
      "nbconvert_exporter": "python",
      "pygments_lexer": "ipython3",
      "version": "3.7.5"
    }
  },
  "nbformat": 4,
  "nbformat_minor": 0
}