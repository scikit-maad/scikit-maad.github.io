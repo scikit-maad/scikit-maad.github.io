{
  "cells": [
    {
      "cell_type": "code",
      "execution_count": null,
      "metadata": {
        "collapsed": false
      },
      "outputs": [],
      "source": [
        "%matplotlib inline"
      ]
    },
    {
      "cell_type": "markdown",
      "metadata": {},
      "source": [
        "\nBatch - This script gives an example of how to use scikit-MAAD package\n======================================================================\n\nCreated on Mon Aug  6 17:59:44 2018\n@author: haupert\n"
      ]
    },
    {
      "cell_type": "code",
      "execution_count": null,
      "metadata": {
        "collapsed": false
      },
      "outputs": [],
      "source": [
        "print(__doc__)\n\n# Clear all the variables \nfrom IPython import get_ipython\nget_ipython().magic('reset -sf')\n \n# =============================================================================\n# Load the modules\n# =============================================================================\nimport matplotlib.pyplot as plt\nimport pandas as pd # for csv\nimport numpy as np\n\n# =============================================================================\n# ############## Import MAAD module\nfrom pathlib import Path # in order to be wind/linux/MacOS compatible\nimport os\n\n# change the path to the current path where the script is located\n# Get the current dir of the current file\ndir_path = os.path.dirname(os.path.realpath('__file__'))\nos.chdir(dir_path)\n\nmaad_path = Path(dir_path).parents[0]\nos.sys.path.append(maad_path.as_posix())\nimport maad\n\n# Close all the figures (like in Matlab)\nplt.close(\"all\")\n\n\n\"\"\"****************************************************************************\n# -------------------          options              ---------------------------\n****************************************************************************\"\"\"\n# root directory of the files\nrootdir = 'D:\\\\mes_projets_data\\\\2018\\\\FRANCE\\\\PNR_JURA\\\\Magneto4\\\\Data\\\\'\nsavedir = 'D:\\\\mes_projets_data\\\\2018\\\\FRANCE\\\\PNR_JURA\\\\Magneto4\\\\Results\\\\'\nsave_csv = 'magneto04'\n         \n\"\"\"****************************************************************************\n# -------------------          end options          ---------------------------\n****************************************************************************\"\"\"\n\n\n\"\"\"****************************************************************************\n# -------------- LOAD SOUND AND PREPROCESS SOUND    ---------------------------\n****************************************************************************\"\"\"\n# find a file in subdirectories\nfor root, subFolders, files in os.walk(rootdir):\n    for file in files:\n        if '.wav' in file:\n            filename = os.path.join(root, file)\n    \n            # Save file basename\n            savefile_base = filename[0:-4]\n            savefile = savedir+savefile_base\n            \n            # Load the original sound\n            s,fs = maad.sound.load(filename=filename, channel=\"left\",\n                                        display=False, savefig=None)\n            # Filter the sound between Low frequency cut (lfc) and High frequency cut (hlc)\n            s_filt = maad.sound.select_bandwidth(s, fs, lfc=1000, hfc=None, order=3, \n                                                 display=False, savefig=None)\n            # Compute the spectrogram of the sound\n            overlap, nperseg, dt, df = maad.sound.convert_dt_df_into_points(dt=0.025, \n                                                                            df=25, fs=fs)\n            im_ref,tn,fn,ext = maad.sound.spectrogram(s_filt, fs, nperseg=nperseg, \n                                                   overlap=overlap, db_range=60, \n                                                   db_gain=30, db_norm_val=1, rescale=True, \n                                                   fcrop =[1100,11100], tcrop = None,\n                                                   display=False, savefig=savefile_base)\n            dt = tn[1]-tn[0]\n            df = fn[1]-fn[0]\n                       \n            # Noise subtraction\n            win_px=round(1000/df)   # convert window width from Hz into pixels\n            std_px=win_px*3         # convert std from Hz into pixels\n            im_denoized = maad.rois.noise_subtraction(im_ref, ext, gauss_win=win_px, \n                                                      gauss_std=std_px, beta1=0.8, beta2=1, \n                                                      llambda=1, display=False, \n                                                      savefig=None)\n            # Blurring\n            im_blurred = maad.rois.blurr(im_denoized, ext, std=2, display=False, \n                                         savefig=None)\n            # Binarization\n            im_bin = maad.rois.create_mask(im_blurred, ext, bin_c=4, bin_l=0.2, \n                                           display=False, savefig=None)\n            # Rois extraction\n            im_rois, rois_bbox  = maad.rois.select_rois(im_bin, ext, min_roi=25, \n                                                         max_roi=10**6, display=False, \n                                                         savefig=None)\n            # display overlay ROIs\n            maad.rois.overlay_rois(im_ref, ext, rois_bbox, savefig=savefile_base)\n            \n            # Characterise ROIs\n            freq = (0.75, 0.5)\n            ntheta=2\n            \n            params, kernels = maad.features.filter_bank_2d_nodc(frequency=freq, \n                                                                ntheta=ntheta, bandwidth=1,\n                                                                gamma=1, display=False, \n                                                                savefig=savefile_base)\n            \n            # multiresolution image filtering (Gaussian pyramids)\n            im_filtlist = maad.features.filter_multires(im_ref, ext, kernels, params,\n                                                        npyr=4, display=False, savefig=None)\n            \n            # Extract shape features for each roi\n            params_features, shape_features = maad.features.shapes(im_list = im_filtlist, \n                                                                   params = params, \n                                                                   im_rois=im_rois)\n            \n            # Extract centroids features for each roi\n            centroid_features = maad.features.centroids(im=im_ref, df=df, dt=dt, \n                                                        date=maad.util.date_from_filename(filename), \n                                                        im_rois=im_rois)\n            \n            # table = maad.features.create_csv(shape_features, centroid_features)\n            maad.features.save_csv(save_csv+'.csv', \n                                   shape_features, centroid_features,\n                                   label_features = None)\n            \n            print(82 * '_')\n\n# =============================================================================\n# Data vizualization with pandas\n# ============================================================================\nfeatures = pd.read_csv(filename[:-4]+'.csv')\n\n# table with a summray of the features value\nfeatures.describe()\n\n# histograpm for each features\n# features.hist(bins=50, figsize=(20,15))\n# plt.show()\n\n# Find correlations. \ncorr_matrix = features.corr()\ncorr_matrix[\"shp5\"].sort_values(ascending=False)\ncorr_matrix[\"shp7\"].sort_values(ascending=False)"
      ]
    }
  ],
  "metadata": {
    "kernelspec": {
      "display_name": "Python 3",
      "language": "python",
      "name": "python3"
    },
    "language_info": {
      "codemirror_mode": {
        "name": "ipython",
        "version": 3
      },
      "file_extension": ".py",
      "mimetype": "text/x-python",
      "name": "python",
      "nbconvert_exporter": "python",
      "pygments_lexer": "ipython3",
      "version": "3.7.5"
    }
  },
  "nbformat": 4,
  "nbformat_minor": 0
}