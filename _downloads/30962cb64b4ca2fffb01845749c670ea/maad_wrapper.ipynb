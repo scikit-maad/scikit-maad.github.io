{
  "cells": [
    {
      "cell_type": "code",
      "execution_count": null,
      "metadata": {
        "collapsed": false
      },
      "outputs": [],
      "source": [
        "%matplotlib inline"
      ]
    },
    {
      "cell_type": "markdown",
      "metadata": {},
      "source": [
        "\nWrapper - This script gives an example of how to use scikit-MAAD package\n========================================================================\nCreated on Mon Aug  6 17:59:44 2018\n@author: haupert\n"
      ]
    },
    {
      "cell_type": "code",
      "execution_count": null,
      "metadata": {
        "collapsed": false
      },
      "outputs": [],
      "source": [
        "print(__doc__)\n\n# Clear all the variables \nfrom IPython import get_ipython\nget_ipython().magic('reset -sf')\n \n# =============================================================================\n# Load the modules\n# =============================================================================\nimport matplotlib.pyplot as plt\nimport pandas as pd # for csv\nimport numpy as np\n\n# =============================================================================\n# ############## Import MAAD module\nfrom pathlib import Path # in order to be wind/linux/MacOS compatible\nimport os\n\n# change the path to the current path where the script is located\n# Get the current dir of the current file\ndir_path = os.path.dirname(os.path.realpath('__file__'))\nos.chdir(dir_path)\n\nmaad_path = Path(dir_path).parents[0]\nos.sys.path.append(maad_path.as_posix())\nimport maad\n\n# Close all the figures (like in Matlab)\nplt.close(\"all\")\n\n\"\"\"****************************************************************************\n# -------------------          options              ---------------------------\n****************************************************************************\"\"\"\n#list \n# demo.wav\n# JURA_20180812_173000.wav\n# MNHN_20180712_05300.wav\n# S4A03902_20171124_065000.wav\n# S4A03998_20180712_060000.wav\n# S4A04430_20180713_103000.wav\n# S4A04430_20180712_141500.wav\nfilename= str(maad_path / 'data/jura_cold_forest.wav')\nfilename_label= filename[0:-4] +'_label.txt'\n                          \n\n\"\"\"****************************************************************************\n# -------------- LOAD SOUND AND PREPROCESS SOUND    ---------------------------\n****************************************************************************\"\"\"\nim_ref, fs, dt, df, ext = maad.sound.preprocess_wrapper(filename, display=True,\n                                db_range=60, db_gain=40, dt_df_res=[0.02,20],\n                                lfc=250, hfc=None, order=2,\n                                fcrop=[0,10000], tcrop=[0,60])\n\n\"\"\"****************************************************************************\n# --------------------------- FIND ROIs    ------------------------------------\n****************************************************************************\"\"\"\nim_rois, rois_bbox, rois_label = maad.rois.find_rois_wrapper(im_ref, ext, display=True,\n                                std_pre = 2, std_post=1, \n                                llambda=1.1, gauss_win = round(500/df),\n                                mode_bin='relative', bin_std=5, bin_per=0.5,\n                                mode_roi='auto')\n\n\"\"\"****************************************************************************\n# ---------------           GET FEATURES                 ----------------------\n****************************************************************************\"\"\"\nfeatures, params_shape = maad.features.get_features_wrapper(im_ref, ext, \n                                            date=maad.util.date_from_filename(filename),im_rois=im_rois,\n                                            label_features=rois_label,\n                                            display=True,savefig =None,\n                                            npyr=4, freq=(0.75, 0.5, 0.25), \n                                            ntheta = 4, gamma=0.5)\n\n\"\"\"****************************************************************************\n# ---------------           CLASSIFY FEATURES            ----------------------\n****************************************************************************\"\"\"\n\n# =============================================================================\n# Machine learning :\n# Clustering/classication :  PCA\n# =============================================================================\n\npca, Xp, YlabelID = maad.cluster.do_PCA(features,col_min=9)"
      ]
    }
  ],
  "metadata": {
    "kernelspec": {
      "display_name": "Python 3",
      "language": "python",
      "name": "python3"
    },
    "language_info": {
      "codemirror_mode": {
        "name": "ipython",
        "version": 3
      },
      "file_extension": ".py",
      "mimetype": "text/x-python",
      "name": "python",
      "nbconvert_exporter": "python",
      "pygments_lexer": "ipython3",
      "version": "3.7.5"
    }
  },
  "nbformat": 4,
  "nbformat_minor": 0
}