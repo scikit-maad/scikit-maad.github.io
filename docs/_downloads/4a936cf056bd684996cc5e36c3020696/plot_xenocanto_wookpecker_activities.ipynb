{
  "cells": [
    {
      "cell_type": "code",
      "execution_count": null,
      "metadata": {
        "collapsed": false
      },
      "outputs": [],
      "source": [
        "%matplotlib inline"
      ]
    },
    {
      "cell_type": "markdown",
      "metadata": {},
      "source": [
        "\nDownload metadata from Xeno-Canto to infer species activities\n=============================================================\n \nThe goal of this example is to show how to download metadata from Xeno-Canto\nto infer species activities. \nWe focus on the activity of european woodpeckers.\n\n**Dependencies**: To execute this example you need to have installed \npandas package.\n\n(from https://woodpeckersofeurope.blogspot.com/2007/11/drumming.html)\nWoodpeckers of Europe\n10 species of woodpecker (Picidae) breed in Europe: \n9 resident species and the migratory Wryneck. 8 of these 10 also occur \noutside Europe, with the distribution of Eurasian Three-toed, White-backed, \nLesser Spotted, Great Spotted, Black & Grey-headed Woodpeckers stretching \neastwards from the Western Palearctic into Asia, whilst Syrian is found in \nthe Middle East & Asia Minor & Wryneck winters in Africa. The global ranges \nof Green & Middle Spotted Woodpeckers are confined to the Western Palearctic.\n\nEurasian Three-toed : Picoides tridactylus\nWhite-backed : Dendrocopos leucotos\nLesser Spotted :        Dryobates minor\nGreat Spotted : Dendrocopos major\nBlack :         Dryocopus martius\nGrey-headed :   Picus canus\nSyrian : Dendrocopos syriacus\nWryneck : Jynx torquilla\nGreen : Picus viridis\nMiddle Spotted : Dendrocoptes medius\n"
      ]
    },
    {
      "cell_type": "code",
      "execution_count": null,
      "metadata": {
        "collapsed": false
      },
      "outputs": [],
      "source": [
        "# sphinx_gallery_thumbnail_path = './_images/sphx_glr_plot_woodpeckers_drumming_annual_activity.png'\n\nimport pandas as pd\nimport matplotlib.pyplot as plt\nimport numpy as np\n\nfrom maad import util"
      ]
    },
    {
      "cell_type": "markdown",
      "metadata": {},
      "source": [
        "Query Xeno-Canto\n----------------\narray with english name and scientific name of all european woodpeckers\n\n"
      ]
    },
    {
      "cell_type": "code",
      "execution_count": null,
      "metadata": {
        "collapsed": false
      },
      "outputs": [],
      "source": [
        "data = [['Eurasian Three-toed', 'Picoides tridactylus'],\n        ['White-backed',        'Dendrocopos leucotos'],\n        ['Lesser Spotted',     \t'Dryobates minor'],\n        ['Great Spotted',       'Dendrocopos major'],\n        ['Black',              \t'Dryocopus martius'],\n        ['Grey-headed',        \t'Picus canus'],\n        ['Syrian',              'Dendrocopos syriacus'],\n        ['Wryneck',             'Jynx torquilla'],\n        ['Green',               'Picus viridis'],\n        ['Middle Spotted',      'Dendrocoptes medius']]"
      ]
    },
    {
      "cell_type": "markdown",
      "metadata": {},
      "source": [
        "creation of a dataframe for the array with species names\n\n"
      ]
    },
    {
      "cell_type": "code",
      "execution_count": null,
      "metadata": {
        "collapsed": false
      },
      "outputs": [],
      "source": [
        "df_species = pd.DataFrame(data,columns =['english name',\n                                         'scientific name'])"
      ]
    },
    {
      "cell_type": "markdown",
      "metadata": {},
      "source": [
        "get the genus and species needed for Xeno-Canto\n\n"
      ]
    },
    {
      "cell_type": "code",
      "execution_count": null,
      "metadata": {
        "collapsed": false
      },
      "outputs": [],
      "source": [
        "gen = []\nsp = []\nfor name in df_species['scientific name']:\n    gen.append(name.rpartition(' ')[0])\n    sp.append(name.rpartition(' ')[2])"
      ]
    },
    {
      "cell_type": "markdown",
      "metadata": {},
      "source": [
        "Build the query dataframe with columns paramXXX\ngen : genus\ncnt : country\narea : continent (europe, america, asia, africa)\nq : quality (q_gt => quality equal or greater than)\nlen : length of the audio file (len_lt => length lower than; \n                                len_gt => length greater than )\ntype : type of sound : 'song' or 'call' or 'drumming'\nPlease have a look here to know all the parameters and how to use them :\nhttps://xeno-canto.org/help/search\n\n"
      ]
    },
    {
      "cell_type": "code",
      "execution_count": null,
      "metadata": {
        "collapsed": false
      },
      "outputs": [],
      "source": [
        "df_query = pd.DataFrame()\ndf_query['param1'] = gen\ndf_query['param2'] = sp\ndf_query['param4'] ='type:drumming'\ndf_query['param5'] ='area:europe'"
      ]
    },
    {
      "cell_type": "markdown",
      "metadata": {},
      "source": [
        "Get recordings metadata corresponding to the query\n\n"
      ]
    },
    {
      "cell_type": "code",
      "execution_count": null,
      "metadata": {
        "collapsed": false
      },
      "outputs": [],
      "source": [
        "df_dataset= util.xc_multi_query(df_query, \n                                 format_time = True,\n                                 format_date = True,\n                                 verbose=True)"
      ]
    },
    {
      "cell_type": "markdown",
      "metadata": {},
      "source": [
        "Creation of a dataframe with the number of files per species per 30mins\n------------------------------------------------------------------------\n Using the metadata collected from Xeno-Canto, we create a new dataframe\n containing the number of files per species and per time slot (30 mins). The\n goal is to create a dataframe with diel pattern of activity for all species\n with a time resolution of 30 mins.\n\n"
      ]
    },
    {
      "cell_type": "code",
      "execution_count": null,
      "metadata": {
        "collapsed": false
      },
      "outputs": [],
      "source": [
        "# make a copy of the dataset to avoid any modification of the original dataset\ndf = df_dataset.copy()\n# remove all rows where data is missing (NA)\ndf['time'].dropna()\n# Convert time into datetime (add a fake year 1900-01-01)\ndf['time'] = pd.to_datetime(df['time'], format=\"%H:%M\")"
      ]
    },
    {
      "cell_type": "markdown",
      "metadata": {},
      "source": [
        "New dataframe with the number of audio files per time slot.\nThe period of the time slot is 30 min\n\n"
      ]
    },
    {
      "cell_type": "code",
      "execution_count": null,
      "metadata": {
        "collapsed": false
      },
      "outputs": [],
      "source": [
        "df_count = pd.DataFrame()\nlist_species = df['en'].unique()\nfor species in list_species :\n    df_temp = pd.DataFrame()\n    df_temp['count'] = df[df['en']==species].set_index(['time']).resample('30T').count().iloc[:,0]\n    df_temp['species'] = species\n    df_count = df_count.append(df_temp)\n\n# create a column with time only\ndf_count[\"time\"] = df_count.index.strftime('%H:%M')"
      ]
    },
    {
      "cell_type": "markdown",
      "metadata": {},
      "source": [
        "Creation of a dataframe with the number of files per species per week\n-----------------------------------------------------------------------\n Using the metadata collected from Xeno-Cant, we create a new dataframe\n containing the number of files per species and per week. The goal is to \n create a dataframe with annual pattern of activity for all species\n with a week (7 days) resolution.\n\n"
      ]
    },
    {
      "cell_type": "code",
      "execution_count": null,
      "metadata": {
        "collapsed": false
      },
      "outputs": [],
      "source": [
        "# make a copy of the dataset to avoid any modification of the original dataset\ndf = df_dataset.copy()\n# remove all rows where data is missing (NA)\ndf['week'].dropna()"
      ]
    },
    {
      "cell_type": "markdown",
      "metadata": {},
      "source": [
        "New dataframe with the number of audio files per week\n\n"
      ]
    },
    {
      "cell_type": "code",
      "execution_count": null,
      "metadata": {
        "collapsed": false
      },
      "outputs": [],
      "source": [
        "df_week_count = pd.DataFrame()\nlist_species = df['en'].unique()\nfor species in list_species :\n    df_temp = pd.DataFrame()\n    df_temp['count'] = df[df['en']==species].set_index(['week']).index.value_counts()\n    df_temp['species'] = species\n    df_week_count = df_week_count.append(df_temp)\n    \n# create a column with time only\ndf_week_count[\"week\"] = df_week_count.index"
      ]
    },
    {
      "cell_type": "markdown",
      "metadata": {},
      "source": [
        "Display a heatmap of diel activity\n-----------------------------------\n make a copy of the dataset to avoid any modification of the original dataset\n\n"
      ]
    },
    {
      "cell_type": "code",
      "execution_count": null,
      "metadata": {
        "collapsed": false
      },
      "outputs": [],
      "source": [
        "df = df_count.copy()"
      ]
    },
    {
      "cell_type": "markdown",
      "metadata": {},
      "source": [
        "find the number of counts that corresponds to 50% of the counts\n\n"
      ]
    },
    {
      "cell_type": "code",
      "execution_count": null,
      "metadata": {
        "collapsed": false
      },
      "outputs": [],
      "source": [
        "for species in list_species:\n    # find the threshold value\n    count_50_threshold = df[df_count['species']==species]['count'].sum()*(0.50)\n    # extract the counting value of the category\n    aa = df[df_count['species']==species]['count'].values\n    # sort the counts (ascending)\n    aa.sort()\n    # reverse the order (descending)\n    aa = aa[::-1]\n    # find the index where the cumulative sum of the count is higher\n    idx = np.where(aa.cumsum() >= count_50_threshold)[0]\n    aa[idx[0]]\n    df.loc[(df_count['species'] == species) & (df['count']< aa[idx[0]]), 'count'] = 0    \n    df.loc[(df_count['species'] == species) & (df['count']>=aa[idx[0]]), 'count'] = 1"
      ]
    },
    {
      "cell_type": "markdown",
      "metadata": {},
      "source": [
        "Display the heatmap to see when (time of the day) the woodpeckers are active.\nWoodpeckers are the most active during the morning, between 6:00am till \n10:00am.\n\n"
      ]
    },
    {
      "cell_type": "code",
      "execution_count": null,
      "metadata": {
        "collapsed": false
      },
      "outputs": [],
      "source": [
        "df = df.pivot( 'species', 'time', \"count\")\ndf = df.fillna(0)\n\n# plot figure\nfig = plt.figure(figsize= (11,2.5))\nax = fig.add_subplot(111)\nax.imshow(df, aspect=\"auto\", interpolation=\"None\", cmap=\"Set1_r\")\n\n# Major ticks\nax.set_xticks(np.arange(0, len(list(df)), 1))\nax.set_yticks(np.arange(0, len(df.index), 1))\n\n# Labels for major ticks\nax.set_xticklabels(list(df),\n                   fontsize=9,\n                   rotation=90)\nax.set_yticklabels(df.index,\n                   fontsize=9)\n\n# Minor ticks\nax.set_xticks(np.arange(-0.5, len(list(df)), 1), minor=True)\nax.set_yticks(np.arange(-0.5, len(df.index), 1), minor=True)\n\n# Gridlines based on minor ticks\nax.grid(which='major', color='w', linestyle='-', linewidth=0)\nax.grid(which='minor', color='w', linestyle='-', linewidth=1)\n\nfig.tight_layout()"
      ]
    },
    {
      "cell_type": "markdown",
      "metadata": {},
      "source": [
        "Display a heatmap of annual activity with week resolution\n----------------------------------------------------------\n make a copy of the dataset to avoid any modification of the original dataset\n\n"
      ]
    },
    {
      "cell_type": "code",
      "execution_count": null,
      "metadata": {
        "collapsed": false
      },
      "outputs": [],
      "source": [
        "df = df_week_count.copy()"
      ]
    },
    {
      "cell_type": "markdown",
      "metadata": {},
      "source": [
        "create a new dataframe with the normalized number of audio files per week\n\n"
      ]
    },
    {
      "cell_type": "code",
      "execution_count": null,
      "metadata": {
        "collapsed": false
      },
      "outputs": [],
      "source": [
        "for species in list_species:\n    df.loc[df['species'] == species, 'count'] = (df[df['species'] == species]['count']\n                                                 /\n                                                 np.max(df[df['species'] == species]['count']))"
      ]
    },
    {
      "cell_type": "markdown",
      "metadata": {},
      "source": [
        "Display the heatmap to see when (annually) the woodpeckers are active.\nWoodpeckers are the most active during the winter and beginning of spring \n(Februrary to April).\n\n"
      ]
    },
    {
      "cell_type": "code",
      "execution_count": null,
      "metadata": {
        "collapsed": false
      },
      "outputs": [],
      "source": [
        "df = df.pivot( 'species', 'week', \"count\")\ndf = df.fillna(0)\n\n# plot figure\nfig = plt.figure(figsize= (11,2.5))\nax = fig.add_subplot(111)\n\nax.imshow(df, aspect=\"auto\", interpolation=\"None\", cmap=\"Reds\")\n\n# Major ticks\nax.set_xticks(np.arange(0, len(list(df)), 1))\nax.set_yticks(np.arange(0, len(df.index), 1))\n\n# Labels for major ticks\nax.set_xticklabels(list(df),\n                   fontsize=9,\n                   rotation=90)\nax.set_yticklabels(df.index,\n                   fontsize=8)\n\n# Minor ticks\nax.set_xticks(np.arange(-0.5, len(list(df)), 1), minor=True)\nax.set_yticks(np.arange(-0.5, len(df.index), 1), minor=True)\n\n# Gridlines based on minor ticks\nax.grid(which='major', color='w', linestyle='-', linewidth=0)\nax.grid(which='minor', color='w', linestyle='-', linewidth=1)\n\n# add the title of the x-axis\nax.set_xlabel(\"week number\")\n\nfig.tight_layout()"
      ]
    }
  ],
  "metadata": {
    "kernelspec": {
      "display_name": "Python 3",
      "language": "python",
      "name": "python3"
    },
    "language_info": {
      "codemirror_mode": {
        "name": "ipython",
        "version": 3
      },
      "file_extension": ".py",
      "mimetype": "text/x-python",
      "name": "python",
      "nbconvert_exporter": "python",
      "pygments_lexer": "ipython3",
      "version": "3.7.5"
    }
  },
  "nbformat": 4,
  "nbformat_minor": 0
}