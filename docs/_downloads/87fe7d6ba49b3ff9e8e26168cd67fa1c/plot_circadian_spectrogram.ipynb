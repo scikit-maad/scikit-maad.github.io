{
  "cells": [
    {
      "cell_type": "code",
      "execution_count": null,
      "metadata": {
        "collapsed": false
      },
      "outputs": [],
      "source": [
        "%matplotlib inline"
      ]
    },
    {
      "cell_type": "markdown",
      "metadata": {},
      "source": [
        "\nCircadian soundscape\n====================\n\nWhen dealing with large amounts of audio recordings, visualization plays a key role to evidence\nthe main patterns in the data. In this example we show how to easily combine 96 audio \nfiles to build a visual representation of a 24 hour natural soundscape.\n"
      ]
    },
    {
      "cell_type": "markdown",
      "metadata": {},
      "source": [
        "Load packages and set variables.\n\n"
      ]
    },
    {
      "cell_type": "code",
      "execution_count": null,
      "metadata": {
        "collapsed": false
      },
      "outputs": [],
      "source": [
        "import glob\nimport matplotlib.pyplot as plt\nfrom maad import sound, util\n\nfpath = '../../data/indices/'  # location of audio files\nsample_len = 3  # length in seconds of each audio slice"
      ]
    },
    {
      "cell_type": "markdown",
      "metadata": {},
      "source": [
        "Build a long list of audio slices of length `sample_len`.\n\n"
      ]
    },
    {
      "cell_type": "code",
      "execution_count": null,
      "metadata": {
        "collapsed": false
      },
      "outputs": [],
      "source": [
        "flist = glob.glob(fpath+'*.wav')\nlong_wav = list()\nfor idx, fname in enumerate(flist):\n    s, fs = sound.load(fname)\n    s = sound.trim(s, fs, 0, sample_len)\n    long_wav.append(s)"
      ]
    },
    {
      "cell_type": "markdown",
      "metadata": {},
      "source": [
        "Combine all audio recordings applying a crossfade and compute a the spectrogram of\nthe resulting mixed audio.\n\n"
      ]
    },
    {
      "cell_type": "code",
      "execution_count": null,
      "metadata": {
        "collapsed": false
      },
      "outputs": [],
      "source": [
        "long_wav = util.crossfade_list(long_wav, fs, fade_len=0.5)\nSxx, tn, fn, ext = sound.spectrogram(long_wav, fs, \n                                     window='hann', nperseg=1024, noverlap=512)"
      ]
    },
    {
      "cell_type": "markdown",
      "metadata": {},
      "source": [
        "Display the spectrogram. We can see clearly the bird chorus at dawn (5-10 h) and \ndusk (20-21 h), as well as the wind and airplanes sounds at low frequencies.\n\n"
      ]
    },
    {
      "cell_type": "code",
      "execution_count": null,
      "metadata": {
        "collapsed": false
      },
      "outputs": [],
      "source": [
        "fig, ax = plt.subplots(1,1, figsize=(10,3))\nutil.plot_spectrogram(Sxx, extent=[0, 24, 0, 11],\n                      ax=ax, db_range=80, gain=25, colorbar=False)\nax.set_xlabel('Time [Hours]')\nax.set_xticks(range(0,25,4))"
      ]
    }
  ],
  "metadata": {
    "kernelspec": {
      "display_name": "Python 3",
      "language": "python",
      "name": "python3"
    },
    "language_info": {
      "codemirror_mode": {
        "name": "ipython",
        "version": 3
      },
      "file_extension": ".py",
      "mimetype": "text/x-python",
      "name": "python",
      "nbconvert_exporter": "python",
      "pygments_lexer": "ipython3",
      "version": "3.7.5"
    }
  },
  "nbformat": 4,
  "nbformat_minor": 0
}