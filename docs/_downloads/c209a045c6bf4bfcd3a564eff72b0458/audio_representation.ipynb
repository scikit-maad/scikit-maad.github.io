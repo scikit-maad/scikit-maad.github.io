{
  "cells": [
    {
      "cell_type": "code",
      "execution_count": null,
      "metadata": {
        "collapsed": false
      },
      "outputs": [],
      "source": [
        "%matplotlib inline"
      ]
    },
    {
      "cell_type": "markdown",
      "metadata": {},
      "source": [
        "\nCreated on Tue Feb 23 18:40:28 2021\n\n@author: jsulloa\n"
      ]
    },
    {
      "cell_type": "code",
      "execution_count": null,
      "metadata": {
        "collapsed": false
      },
      "outputs": [],
      "source": [
        "import numpy as np\nimport pandas as pd\nimport matplotlib.pyplot as plt\n#!/usr/bin/env python3\n# -*- coding: utf-8 -*-\n\"\"\"\nAudio representation\n====================\n\nAn audio signal can be represented in both, temporal and spectral domains. \nThese representations give valuable information related to the signal characteristics\nand hence are complementary. In this introductory example we will load an audio signal, \napply basic transformations to better understand its features.\n\"\"\""
      ]
    },
    {
      "cell_type": "code",
      "execution_count": null,
      "metadata": {
        "collapsed": false
      },
      "outputs": [],
      "source": [
        "import matplotlib.pyplot as plt\nfrom maad import sound\nfrom maad import util\n\ns, fs = sound.load('../../data/spinetail.wav')\nutil.plot_wave(s, fs)"
      ]
    },
    {
      "cell_type": "markdown",
      "metadata": {},
      "source": [
        "It can be noticed that in this audio there are four consecutive songs of the spinetail \n*Cranioleuca erythorps*, every song lasting of approximatelly two seconds. \nLet's trim the signal to zoom in a single song.\n\n"
      ]
    },
    {
      "cell_type": "code",
      "execution_count": null,
      "metadata": {
        "collapsed": false
      },
      "outputs": [],
      "source": [
        "s_trim = sound.trim(s, fs, 5, 8)"
      ]
    },
    {
      "cell_type": "markdown",
      "metadata": {},
      "source": [
        "short-time Fourier transforms.\n\n"
      ]
    },
    {
      "cell_type": "code",
      "execution_count": null,
      "metadata": {
        "collapsed": false
      },
      "outputs": [],
      "source": [
        "env = sound.envelope(s_trim, mode='fast', Nt=128)\npxx, fidx = sound.spectrum(s, fs, nperseg=1024, method='welch')\nSxx, tn, fn, ext = sound.spectrogram(s_trim, fs, window='hann', nperseg=1024, noverlap=512)"
      ]
    },
    {
      "cell_type": "markdown",
      "metadata": {},
      "source": [
        "Finally, we can visualize the signal characteristics in the temporal and \nspectral domains.\n\n"
      ]
    },
    {
      "cell_type": "code",
      "execution_count": null,
      "metadata": {
        "collapsed": false
      },
      "outputs": [],
      "source": [
        "fig, ax = plt.subplots(4,1, figsize=(10,12))\nutil.plot_wave(s_trim, fs, ax=ax[0])\nutil.plot_wave(env, fs/128, ax=ax[1])\nutil.plot_spectrum(pxx, fidx, ax=ax[2])\nutil.plot_spectrogram(Sxx, extent=ext, ax=ax[3], colorbar=False)"
      ]
    }
  ],
  "metadata": {
    "kernelspec": {
      "display_name": "Python 3",
      "language": "python",
      "name": "python3"
    },
    "language_info": {
      "codemirror_mode": {
        "name": "ipython",
        "version": 3
      },
      "file_extension": ".py",
      "mimetype": "text/x-python",
      "name": "python",
      "nbconvert_exporter": "python",
      "pygments_lexer": "ipython3",
      "version": "3.7.5"
    }
  },
  "nbformat": 4,
  "nbformat_minor": 0
}