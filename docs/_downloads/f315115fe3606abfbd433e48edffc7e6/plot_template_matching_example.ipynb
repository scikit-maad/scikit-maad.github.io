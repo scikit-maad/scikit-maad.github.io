{
  "cells": [
    {
      "cell_type": "markdown",
      "metadata": {},
      "source": [
        "\n# Template matching\n\nTemplate matching is a simple but powerfull method to detect a stereotyped sound of interest using a template signal. This example shows how to use the normalized cross-correlation of spectrograms. For a more detailed information on how to implement this technique in a large dataset check references [1,2].\n\n**References**\n\n.. [1] Ulloa, Juan Sebastian, Amandine Gasc, Phillipe Gaucher, Thierry Aubin, Maxime R\u00e9jou-M\u00e9chain, and J\u00e9r\u00f4me Sueur. 2016. \u201cScreening Large Audio Datasets to Determine the Time and Space Distribution of Screaming Piha Birds in a Tropical Forest.\u201d Ecological Informatics 31:91\u201399. doi: 10.1016/j.ecoinf.2015.11.012.\n.. [2] Brunelli, Roberto. 2009. Template Matching Techniques in Computer Vision: Theory and Practice. John Wiley and Sons, Ltd.\n"
      ]
    },
    {
      "cell_type": "markdown",
      "metadata": {},
      "source": [
        "## Load required modules\n\n"
      ]
    },
    {
      "cell_type": "code",
      "execution_count": null,
      "metadata": {
        "collapsed": false
      },
      "outputs": [],
      "source": [
        "import matplotlib.pyplot as plt\nfrom maad import sound, util\nfrom maad.rois import template_matching"
      ]
    },
    {
      "cell_type": "markdown",
      "metadata": {},
      "source": [
        "## Compute spectrograms\nThe first step is to compute the spectrogram of the template and the target audio. It is important to use the same spectrogram parameters for both signals in order to get adecuate results. For simplicity, we will take the template from the same target audio signal, but the template can be loaded from another file.\n\n"
      ]
    },
    {
      "cell_type": "code",
      "execution_count": null,
      "metadata": {
        "collapsed": false
      },
      "outputs": [],
      "source": [
        "# Set spectrogram parameters\ntlims = (9.8, 10.5)\nflims = (6000, 12000)\nnperseg = 1024\nnoverlap = 512\nwindow = 'hann'\ndb_range = 80\n\n# load data\ns, fs = sound.load('../../data/spinetail.wav')\n\n# Compute spectrogram for template signal\nSxx_template, _, _, _ = sound.spectrogram(s, fs, window, nperseg, noverlap, flims, tlims)\nSxx_template = util.power2dB(Sxx_template, db_range)\n\n# Compute spectrogram for target audio\nSxx_audio, tn, fn, ext = sound.spectrogram(s, fs, window, nperseg, noverlap, flims)\nSxx_audio = util.power2dB(Sxx_audio, db_range)"
      ]
    },
    {
      "cell_type": "markdown",
      "metadata": {},
      "source": [
        "## Compute the cross-correlation of spectrograms\nCompute the cross-correlation of spectrograms and find peaks in the resulting signal using the `template matching` function. The template_matching functions gives temporal information on the location of the audio and frequency limits must be added.\n\n"
      ]
    },
    {
      "cell_type": "code",
      "execution_count": null,
      "metadata": {
        "collapsed": false
      },
      "outputs": [],
      "source": [
        "peak_th = 0.3 # set the threshold to find peaks\nxcorrcoef, rois = template_matching(Sxx_audio, Sxx_template, tn, ext, peak_th)\nrois['min_f'] = flims[0]\nrois['max_f'] = flims[1]\nprint(rois)"
      ]
    },
    {
      "cell_type": "markdown",
      "metadata": {},
      "source": [
        "## Plot results\nFinally, you can plot the detection results or save them as a csv file.\n\n"
      ]
    },
    {
      "cell_type": "code",
      "execution_count": null,
      "metadata": {
        "collapsed": false
      },
      "outputs": [],
      "source": [
        "Sxx, tn, fn, ext = sound.spectrogram(s, fs, window, nperseg, noverlap)\nfig, ax = plt.subplots(2,1, figsize=(8, 5), sharex=True)\nutil.plot_spectrogram(Sxx, ext, db_range=80, ax=ax[0], colorbar=False)\nutil.overlay_rois(Sxx, util.format_features(rois, tn, fn), fig=fig, ax=ax[0])\nax[1].plot(tn[0: xcorrcoef.shape[0]], xcorrcoef)\nax[1].hlines(peak_th, 0, tn[-1], linestyle='dotted', color='0.75')\nax[1].plot(rois.peak_time, rois.xcorrcoef, 'x')\nax[1].set_xlabel('Time [s]')\nax[1].set_ylabel('Correlation coeficient')\nplt.show()"
      ]
    }
  ],
  "metadata": {
    "kernelspec": {
      "display_name": "Python 3",
      "language": "python",
      "name": "python3"
    },
    "language_info": {
      "codemirror_mode": {
        "name": "ipython",
        "version": 3
      },
      "file_extension": ".py",
      "mimetype": "text/x-python",
      "name": "python",
      "nbconvert_exporter": "python",
      "pygments_lexer": "ipython3",
      "version": "3.10.13"
    }
  },
  "nbformat": 4,
  "nbformat_minor": 0
}