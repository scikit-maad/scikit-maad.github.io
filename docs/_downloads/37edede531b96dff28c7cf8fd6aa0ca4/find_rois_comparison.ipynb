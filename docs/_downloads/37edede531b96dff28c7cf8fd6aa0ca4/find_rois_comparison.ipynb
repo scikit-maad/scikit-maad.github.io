{
  "cells": [
    {
      "cell_type": "code",
      "execution_count": null,
      "metadata": {
        "collapsed": false
      },
      "outputs": [],
      "source": [
        "%matplotlib inline"
      ]
    },
    {
      "cell_type": "markdown",
      "metadata": {},
      "source": [
        "\nCreated on Tue Nov  3 12:45:22 2020\n\n@author: haupert\n"
      ]
    },
    {
      "cell_type": "code",
      "execution_count": null,
      "metadata": {
        "collapsed": false
      },
      "outputs": [],
      "source": [
        "from maad.sound import load, spectrogram\nfrom maad.features import shape_features, plot_shape, centroid_features, overlay_centroid\nfrom maad.util import read_audacity_annot, linear_scale, format_features,get_unimode, running_mean \nfrom maad.rois import overlay_rois, create_mask, select_rois, find_rois_cwt, remove_background, median_equalizer\nfrom skimage import  morphology\nimport numpy as np\nimport pandas as pd\n\n\n###=============== load audio =================\ns, fs = load('./data/spinetail.wav')\nrois = read_audacity_annot('./data/spinetail.txt')  ## annotations using Audacity\n\n###=============== compute spectrogram =================\nSxx, tn, fn, ext = spectrogram(s, fs)\nSxx = 10*np.log10(Sxx)\n\nrois = format_features(rois, tn, fn)\n\n###=============== from Audacity =================\n\n### with all labels\nax, fig = overlay_rois(Sxx, ext, rois, vmin=-120, vmax=20)\n    \n# Compute an visualize features\nshape, params = shape_features(Sxx, resolution='low', rois=rois)\nplot_shape(shape.mean(), params)\n\n# Compute and visualize centroids\ncentroid = centroid_features(Sxx, rois)\ncentroid = format_features(centroid, tn, fn)\nax, fig = overlay_centroid(Sxx, ext, centroid, savefig=None, vmin=-120, vmax=20, fig=fig, ax=ax)\n\n###=============== find ROI 2D =================\n# create a mask\nX = linear_scale(Sxx)\nim_mask = create_mask(im=X, ext=ext, \n                      mode_bin = 'relative', bin_std=1.5, bin_per=0.1,\n                      display=False)\n# create rois from mask\nim_rois, rois = select_rois(im_mask,min_roi=200, max_roi=im_mask.shape[1]*5, \n                            ext=ext, display= False)\nrois = format_features(rois, tn, fn)\n\n# view bbox\nax, fig = overlay_rois(Sxx, ext, rois, vmin=-120, vmax=20)\n\n# Compute and visualize features\nshape, params = shape_features(Sxx, resolution='low', rois=rois)\nplot_shape(shape.mean(), params)\n\n# Compute and visualize centroids from rectangular rois\ncentroid = centroid_features(Sxx, rois=rois)\ncentroid = format_features(centroid, tn, fn)\noverlay_centroid(Sxx, ext, centroid, savefig=None, vmin=-120, vmax=20, fig=fig, ax=ax)\n\n# Compute and visualize centroids from real rois\ncentroid = centroid_features(Sxx, rois, im_rois)\ncentroid = format_features(centroid, tn, fn)\noverlay_centroid(Sxx, ext, centroid, savefig=None, vmin=-120, vmax=20, color='blue', fig=fig, ax=ax)\n\n# merge dataframes containing different features into a single dataframe (drop duplicate columns)\nfeatures = pd.concat([shape, centroid], axis=0, sort=False).fillna(0)\n\n###=============== Find ROI 1D =================\nrois_cr = find_rois_cwt(s, fs, flims=[3000, 8000], tlen=3, th=0.003)\nrois_sp = find_rois_cwt(s, fs, flims=[6000, 12000], tlen=0.2, th=0.001)\n\nrois =pd.concat([rois_sp, rois_cr], ignore_index=True)\nrois = format_features(rois, tn, fn)\n\n# view bbox\nax, fig = overlay_rois(Sxx, ext, rois, vmin=-120, vmax=20)\n    \n# get features: shape, center frequency\nshape, params = shape_features(Sxx, resolution='low', rois=rois)\nplot_shape(shape.mean(), params)\n\ncentroid = centroid_features(Sxx, rois)\ncentroid = format_features(centroid, tn, fn)\n\noverlay_centroid(Sxx, ext, centroid, savefig=None, vmin=-120, vmax=20, fig=fig, ax=ax)\n\n# final dataframe with all the features and coordinates\nfeatures = pd.merge(centroid, shape)\n\n#=============================================================================\n# other example\n#=============================================================================\n\n###=============== load audio =================\ns, fs = load('./data/jura_cold_forest_jour.wav')\nrois = read_audacity_annot('./data/jura_cold_forest_jour_label.txt')  ## annotations using Audacity\n\n###=============== compute spectrogram =================\nSxx, tn, fn, ext = spectrogram(s, fs, tcrop=[0,10])\nSxx = 10*np.log10(Sxx)\n\nrois = format_features(rois, tn, fn)\n\n###=============== from Audacity =================\n\n# with all labels\nax, fig = overlay_rois(Sxx, ext, rois, vmin=-120, vmax=20)\n\n# Compute and visualize centroids\ncentroid = centroid_features(Sxx, rois)\n\ncentroid = format_features(centroid, tn, fn)\nax, fig = overlay_centroid(Sxx, ext, centroid, savefig=None, vmin=-120, vmax=20, fig=fig, ax=ax)\n\n###=============== find ROI 2D =================\n# create a mask\nX = linear_scale(Sxx)\n\n# remove background\nX = remove_background(X,ext)\nX = median_equalizer(X)\n\nim_mask = create_mask(im=X, ext=ext, \n                      mode_bin = 'relative', bin_std=3, bin_per=0.75,\n                      display=False)\n\n# create rois from mask\nim_rois, rois = select_rois(im_mask,min_roi=25, max_roi=im_mask.shape[1]*5, \n                            ext=ext, display= False)\nrois = format_features(rois, tn, fn)\n\n# view bbox\nax, fig = overlay_rois(Sxx, ext, rois, vmin=-120, vmax=20)\n\n# Compute and visualize centroids from rectangular rois\ncentroid = centroid_features(Sxx, rois)\n\ncentroid = format_features(centroid, tn, fn)\noverlay_centroid(Sxx, ext, centroid, savefig=None, vmin=-120, vmax=20, fig=fig, ax=ax)\n\n# Compute and visualize centroids from real rois\ncentroid = centroid_features(Sxx, rois, im_rois)\n\ncentroid = format_features(centroid, tn, fn)\noverlay_centroid(Sxx, ext, centroid, savefig=None, vmin=-120, vmax=20, color='blue', fig=fig, ax=ax)\n\n###=============== Find ROI 1D =================\n       \nrois_sh = find_rois_cwt(s, fs, flims=[7000, 8000], tlen=0.2, th=0.00001)\nrois_sm = find_rois_cwt(s, fs, flims=[3500, 5500], tlen=0.2, th=0.00001)\nrois_lm = find_rois_cwt(s, fs, flims=[2000, 7500], tlen=2, th=0.0001)\nrois_sl = find_rois_cwt(s, fs, flims=[1800, 3000], tlen=0.2, th=0.00001)\n\n# add label column\nrois_sh['label'] = 'CR'\nrois_sm['label'] = 'SM'\nrois_lm['label'] = 'LM'\nrois_sl['label'] = 'SL'\n\n# concat df\nrois =pd.concat([rois_sh, rois_sm, rois_lm, rois_sl], ignore_index=True)\n# change position of label column to be the first column\nl = rois['label'] # get the column label\nrois=rois.drop(['label'],axis=1)  #drop the column\nrois.insert(0,'label',l) #insert as the first column\n\n# Compute and visualize features\nrois = format_features(rois, tn, fn)\nshape, params = shape_features(Sxx, resolution='low', rois=rois)\nplot_shape(shape.mean(), params)\n    \n# get features: centroid, \nrois = format_features(rois, tn, fn)\ncentroid = centroid_features(Sxx, rois)\n\nax, fig = overlay_rois(Sxx, ext, rois, vmin=-120, vmax=20)\ncentroid = format_features(centroid, tn, fn)\nax, fig = overlay_centroid(Sxx, ext, centroid, savefig=None, vmin=-120, vmax=20, fig=fig, ax=ax)\n\n# merge dataframes containing different features into a single dataframe (drop duplicate columns)\nfeatures = pd.concat([shape, centroid], axis=0, sort=False).fillna(0)"
      ]
    }
  ],
  "metadata": {
    "kernelspec": {
      "display_name": "Python 3",
      "language": "python",
      "name": "python3"
    },
    "language_info": {
      "codemirror_mode": {
        "name": "ipython",
        "version": 3
      },
      "file_extension": ".py",
      "mimetype": "text/x-python",
      "name": "python",
      "nbconvert_exporter": "python",
      "pygments_lexer": "ipython3",
      "version": "3.7.5"
    }
  },
  "nbformat": 4,
  "nbformat_minor": 0
}