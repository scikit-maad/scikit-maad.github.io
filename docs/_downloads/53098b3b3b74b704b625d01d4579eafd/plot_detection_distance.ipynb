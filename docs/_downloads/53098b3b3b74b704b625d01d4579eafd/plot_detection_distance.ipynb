{
  "cells": [
    {
      "cell_type": "markdown",
      "metadata": {},
      "source": [
        "\n# Detection distance estimation \n\nWhen sound travels in air (or in water), initial acoustic signature may change \nregarding distances due to attenuation. Sound attenuation in natural environment \nis very complex to model. We propose to reduce the complexity by decomposing \nthe sound attenuation to three main sources of attenuation : \n- the geometric attenuation (Ageo) also known as spreading loss or geometric \ndispersion, \n- the atmospheric attenuation (Aatm) \n- and the habitat attenuation (Ahab). The later encompasses several sources of \nattenuation and might be seen as a proxy.\n\nKnowing the attenuation law and the sound level at each frequency, it is \npossible to estimate the detection distance of each frequency component of \nthat sound\n\nIn this example, we will estimate the detection distance of each frequency\ncomponent of a sound that travels in rainforest at noon, when the ambient\nsound level is the lowest. \n"
      ]
    },
    {
      "cell_type": "code",
      "execution_count": null,
      "metadata": {
        "collapsed": false
      },
      "outputs": [],
      "source": [
        "# import numpy\nimport numpy as np\n# import the graphic library\nimport matplotlib.pyplot as plt\nplt.style.use('ggplot')\n# import maad\nfrom maad import sound, spl, util"
      ]
    },
    {
      "cell_type": "markdown",
      "metadata": {},
      "source": [
        "Let's decide that the propagation sound is a wideband sound ranging from 0Hz\nto 20000Hz with an initial sound pressure level of 80 dBSPL at 1m which \ncorresponds to the sum of the sound pressure level along the full frequency \nbandwidth. So we need first to spread the intial sound pressure level over \nthis frequency bandwidth. \n\n"
      ]
    },
    {
      "cell_type": "code",
      "execution_count": null,
      "metadata": {
        "collapsed": false
      },
      "outputs": [],
      "source": [
        "# frequency vector from 0Hz to 20000Hz, with 1000Hz resolution\nf = np.arange(0,20000,1000)\n# Repartition of the initial sound pressure level along each frequency bin\nL0 = 80\nL0_per_bin = spl.dBSPL_per_bin(L0,f)\nprint(L0_per_bin)\n# Distance in m at which the initial sound pressure level is measured\nr0 = 1"
      ]
    },
    {
      "cell_type": "markdown",
      "metadata": {},
      "source": [
        "The detection distance is mostly driven by the sound pressure level of the \nbackground noise (or ambient sound). Let's define an array with the sound\npressure level experimentaly measured in a rainforest (French Guiana) \nat noon for each frequency bin (from 0Hz to 20kHz).\n\n"
      ]
    },
    {
      "cell_type": "code",
      "execution_count": null,
      "metadata": {
        "collapsed": false
      },
      "outputs": [],
      "source": [
        "L_bkg = np.array([44.270917, 27.586848, 25.60843 , 23.205826, 20.631086, 24.080126,\n                  19.032034, 33.455814, 44.420644, 19.751421, 11.932672,  9.641225,\n                  8.075566,  7.447614,  6.991958,  7.854252, 11.911974,  4.192154,\n                  3.234791,  2.936258])"
      ]
    },
    {
      "cell_type": "markdown",
      "metadata": {},
      "source": [
        "We know the initial sound pressure level LO at the distance r0 = 1m as well\nas the sound pressure level of the background L_bkg, then it is possible\nto estimate the detection distance for each frequency bin. We set the \ntemperature at 24\u00b0C and the relative humidity at 87% as there are common \nvalues for rainforest. We also set the coefficient of attenuation of the \nhabitat to 0.02dB/kHz/m which is also representative of the attenuation of \nrainforest habitat.\n\n"
      ]
    },
    {
      "cell_type": "code",
      "execution_count": null,
      "metadata": {
        "collapsed": false
      },
      "outputs": [],
      "source": [
        "f, r = spl.detection_distance (L_bkg, L0_per_bin, f, r0, t = 24, rh = 87, a0=0.02)"
      ]
    },
    {
      "cell_type": "markdown",
      "metadata": {},
      "source": [
        "Display the detection distance for each frequency as a bar plot. We can \nobserve that the detection distance is highly variable from 10m at 8kHz till\n81m for 4kHz. The low detection distance between 7kHz to 8kHz is due to the\nstridulations of the insects that is very loud. It masks the propagation \nof the audio signal at a very short distance.\n\n"
      ]
    },
    {
      "cell_type": "code",
      "execution_count": null,
      "metadata": {
        "collapsed": false
      },
      "outputs": [],
      "source": [
        "# Define a function to add value labels\ndef valuelabel(f,r):\n    for i in range(len(f)):\n        plt.text(i,\n                 r[i]+2,\n                 '%dm' % r[i], \n                 ha = 'center',\n                 size=6,\n                )\n  \n# Create the figure and set the size\nfig = plt.figure()\nfig.set_figwidth(6)\nfig.set_figheight(4.5)\n\n# Create bars\ny_pos = np.arange(len(f))\nplt.bar(y_pos, r)\n\n# Create names on the x-axis\nplt.xticks(y_pos, f)\nplt.xticks(rotation=45)\n\n# Call function\nvaluelabel(f, r) \n\n# Define labels\nplt.ylabel(\"Detection distance [m]\")\nplt.xlabel(\"Frequency [Hz]\")\n\n# Show graphic\nplt.tight_layout()  \nplt.grid(axis='y')\nplt.show()"
      ]
    }
  ],
  "metadata": {
    "kernelspec": {
      "display_name": "Python 3",
      "language": "python",
      "name": "python3"
    },
    "language_info": {
      "codemirror_mode": {
        "name": "ipython",
        "version": 3
      },
      "file_extension": ".py",
      "mimetype": "text/x-python",
      "name": "python",
      "nbconvert_exporter": "python",
      "pygments_lexer": "ipython3",
      "version": "3.11.11"
    }
  },
  "nbformat": 4,
  "nbformat_minor": 0
}