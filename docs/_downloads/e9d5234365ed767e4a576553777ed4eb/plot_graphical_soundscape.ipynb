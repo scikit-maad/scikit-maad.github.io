{
  "cells": [
    {
      "cell_type": "markdown",
      "metadata": {},
      "source": [
        "\n# Acoustic fingerprinting and graphical soundscapes\n\nAcoustic fingerprinting is a technique that captures unique features of audio signals. For example, Shazam employs a spectrogram-based approach, converting audio into a visual representation and then identifying peaks on the spectrogram [1]. This fingerprint is matched against a vast database to identify the corresponding song. The method is robust in presence of noise, allowing accurate recognition of diverse audio sources in real-time. This approach is versatile, finding application in characterizing soundscapes. It has been successfully employed to evaluate FSC forest certification [2] and Neotropical oil palm landscapes [3].\n"
      ]
    },
    {
      "cell_type": "markdown",
      "metadata": {},
      "source": [
        "## Load required modules\n\n"
      ]
    },
    {
      "cell_type": "code",
      "execution_count": null,
      "metadata": {
        "collapsed": false
      },
      "outputs": [],
      "source": [
        "from maad import sound, util, rois, features"
      ]
    },
    {
      "cell_type": "markdown",
      "metadata": {},
      "source": [
        "## Local maxima on spectrograms\nLoad the audio file, get the spectrogram, and compute the local maximas.\n\n"
      ]
    },
    {
      "cell_type": "code",
      "execution_count": null,
      "metadata": {
        "collapsed": false
      },
      "outputs": [],
      "source": [
        "s, fs = sound.load('../../data/spinetail.wav')\nSxx, tn, fn, ext = sound.spectrogram(s, fs, nperseg=1024, noverlap=512)\nSxx_db = util.power2dB(Sxx, db_range=80)\npeak_time, peak_freq = rois.spectrogram_local_max(\n    Sxx_db, tn, fn, ext, min_distance=1, threshold_abs=-40, display=True)"
      ]
    },
    {
      "cell_type": "markdown",
      "metadata": {},
      "source": [
        "## Graphical soundscapes\nIf we compute the local maxima over multiple audio recordings from the same site,\nwe can have a graphical representation of the most prominent spectro-temporal \ndynamics over a 24-hour window. To illustrate this, we will \nuse 96 audio recordings that were collected in a temperate forest, and that are \navailable [here](https://github.com/scikit-maad/scikit-maad/tree/production/data/indices).\n\n"
      ]
    },
    {
      "cell_type": "code",
      "execution_count": null,
      "metadata": {
        "collapsed": false
      },
      "outputs": [],
      "source": [
        "df = util.get_metadata_dir('../../data/indices')\ndf['time'] = df.date.dt.hour\ngs = features.graphical_soundscape(\n    data=df, time='time', threshold_abs=-80, target_fs=22000, verbose=False)\nax = features.plot_graph(gs)"
      ]
    },
    {
      "cell_type": "markdown",
      "metadata": {},
      "source": [
        "This representation can be computed at various locations, and comparisons can be made among these sites for similarity. For further details on this approach, refer to sources [2] and [3]. It is important to note that the method implemented in scikit-maad is akin but not identical. In the original approach, peaks were calculated based on the mean spectrogram. In this version, we identify local maxima directly within the spectrogram.\n\n"
      ]
    },
    {
      "cell_type": "markdown",
      "metadata": {},
      "source": [
        "## References\n[1] Wang, A. (2003, October). An industrial strength audio search algorithm. In Ismir (Vol. 2003, pp. 7-13).\n\n[2] Campos\u2010Cerqueira, M., Mena, J. L., Tejeda\u2010G\u00f3mez, V., Aguilar\u2010Amuchastegui, N., Gutierrez, N., & Aide, T. M. (2020). How does FSC forest certification affect the acoustically active fauna in Madre de Dios, Peru?. Remote Sensing in Ecology and Conservation, 6(3), 274-285.\n\n[3] Furumo, P. R., & Mitchell Aide, T. (2019). Using soundscapes to assess biodiversity in Neotropical oil palm landscapes. Landscape Ecology, 34, 911-923.\n\n"
      ]
    }
  ],
  "metadata": {
    "kernelspec": {
      "display_name": "Python 3",
      "language": "python",
      "name": "python3"
    },
    "language_info": {
      "codemirror_mode": {
        "name": "ipython",
        "version": 3
      },
      "file_extension": ".py",
      "mimetype": "text/x-python",
      "name": "python",
      "nbconvert_exporter": "python",
      "pygments_lexer": "ipython3",
      "version": "3.11.11"
    }
  },
  "nbformat": 4,
  "nbformat_minor": 0
}