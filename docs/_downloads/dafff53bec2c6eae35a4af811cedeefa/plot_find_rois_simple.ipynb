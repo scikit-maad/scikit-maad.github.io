{
  "cells": [
    {
      "cell_type": "code",
      "execution_count": null,
      "metadata": {
        "collapsed": false
      },
      "outputs": [],
      "source": [
        "%matplotlib inline"
      ]
    },
    {
      "cell_type": "markdown",
      "metadata": {},
      "source": [
        "\nSegment audio using predetermined temporal length and frequency limits\n======================================================================\n\nIn an audio signal, regions of interest are usually regions with high density of energy. The function find_rois_cwt allows finding regions of interest in the signal giving very simple and intuitive parameters: temporal length and frequency limits. This segmentation can be seen as a coarse detection process, the starting point of more advanced classification methods.\n\nThe following sound example as two main different soundtypes in the foreground:\n\n- An accelerating trill between 4.5 and 8 kHz lasting approximately 2 seconds\n- A fast descending chirp between 8 and 12 kHz lasting 0.1 approximately seconds\n"
      ]
    },
    {
      "cell_type": "code",
      "execution_count": null,
      "metadata": {
        "collapsed": false
      },
      "outputs": [],
      "source": [
        "from maad import sound\nfrom maad.rois import find_rois_cwt\nfrom maad.util import power2dB, plot2D\n\n\ns, fs = sound.load('../../data/spinetail.wav')\nSxx, tn, fn, ext = sound.spectrogram(s, fs, nperseg=1024, noverlap=512)\nSxx_db = power2dB(Sxx, db_range=100) + 100\nplot2D(Sxx_db, **{'extent':ext})"
      ]
    },
    {
      "cell_type": "markdown",
      "metadata": {},
      "source": [
        "Detect the accelerating trill\n-----------------------------\nThe accelerating trill is the song of a small neotropical bird, Cranioleuca erythrops. This song can be detected on the recording using the function find_rois_cwt and setting frequency limits flims=(4500,8000) and temporal length of signal tlen=2.\n\n"
      ]
    },
    {
      "cell_type": "code",
      "execution_count": null,
      "metadata": {
        "collapsed": false
      },
      "outputs": [],
      "source": [
        "_ = find_rois_cwt(s, fs, flims=(4500,8000), tlen=2, th=0, display=True, figsize=(13,6))"
      ]
    },
    {
      "cell_type": "markdown",
      "metadata": {},
      "source": [
        "Detect the fast descending chirp\n--------------------------------\nAlternatively, the fast descending chirp (unknown species) can be segmented in the recording by changing the detection parameters.\n\n"
      ]
    },
    {
      "cell_type": "code",
      "execution_count": null,
      "metadata": {
        "collapsed": false
      },
      "outputs": [],
      "source": [
        "df = find_rois_cwt(s, fs, flims=(8000,12000), tlen=0.1, th=0.001, display=True, figsize=(13,6))"
      ]
    },
    {
      "cell_type": "markdown",
      "metadata": {},
      "source": [
        "The segmentation results are returned as a dataframe with temporal segmentation given by the function and using the frequency limits defined by the user.\n\n"
      ]
    },
    {
      "cell_type": "code",
      "execution_count": null,
      "metadata": {
        "collapsed": false
      },
      "outputs": [],
      "source": [
        "print(df)"
      ]
    }
  ],
  "metadata": {
    "kernelspec": {
      "display_name": "Python 3",
      "language": "python",
      "name": "python3"
    },
    "language_info": {
      "codemirror_mode": {
        "name": "ipython",
        "version": 3
      },
      "file_extension": ".py",
      "mimetype": "text/x-python",
      "name": "python",
      "nbconvert_exporter": "python",
      "pygments_lexer": "ipython3",
      "version": "3.7.5"
    }
  },
  "nbformat": 4,
  "nbformat_minor": 0
}