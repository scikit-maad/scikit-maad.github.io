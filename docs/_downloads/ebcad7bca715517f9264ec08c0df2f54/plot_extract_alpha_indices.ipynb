{
  "cells": [
    {
      "cell_type": "code",
      "execution_count": null,
      "metadata": {
        "collapsed": false
      },
      "outputs": [],
      "source": [
        "%matplotlib inline"
      ]
    },
    {
      "cell_type": "markdown",
      "metadata": {},
      "source": [
        "\n# Extract ecoacoustics alpha indices from audio recording\n\nIn ecoacoustics, acoustics diversity is measured by single values, the so-called\nalpha indices, which compress a portion of audio into a single value. In this\nexample, we will see how to compute these indices and show basics post-processing\n"
      ]
    },
    {
      "cell_type": "code",
      "execution_count": null,
      "metadata": {
        "collapsed": false
      },
      "outputs": [],
      "source": [
        "# sphinx_gallery_thumbnail_path = '../_images/sphx_glr_plot_extract_alpha_indices_002.png'\n\nimport pandas as pd\nimport os\nfrom maad import sound, features\nfrom maad.util import (date_parser, plot_correlation_map, \n                       plot_features_map, plot_features, false_Color_Spectro)"
      ]
    },
    {
      "cell_type": "code",
      "execution_count": null,
      "metadata": {
        "collapsed": false
      },
      "outputs": [],
      "source": [
        "SPECTRAL_FEATURES=['MEANf','VARf','SKEWf','KURTf','NBPEAKS','LEQf', \n'ENRf','BGNf','SNRf','Hf', 'EAS','ECU','ECV','EPS','EPS_KURT','EPS_SKEW','ACI',\n'NDSI','rBA','AnthroEnergy','BioEnergy','BI','ROU','ADI','AEI','LFC','MFC','HFC',\n'ACTspFract','ACTspCount','ACTspMean', 'EVNspFract','EVNspMean','EVNspCount',\n'TFSD','H_Havrda','H_Renyi','H_pairedShannon', 'H_gamma', 'H_GiniSimpson','RAOQ',\n'AGI','ROItotal','ROIcover']\n\nTEMPORAL_FEATURES=['ZCR','MEANt', 'VARt', 'SKEWt', 'KURTt',\n               'LEQt','BGNt', 'SNRt','MED', 'Ht','ACTtFraction', 'ACTtCount', \n               'ACTtMean','EVNtFraction', 'EVNtMean', 'EVNtCount']"
      ]
    },
    {
      "cell_type": "markdown",
      "metadata": {},
      "source": [
        "First, we parse the directory /indices in order to get a df with date \nand fullfilename. As the data were collected with a SM4 audio recording device\nwe set the dateformat agument to 'SM4' in order to be able to parse the date\nfrom the filename. In case of Audiomoth, the date is coded as Hex in the \nfilename.\n\n"
      ]
    },
    {
      "cell_type": "code",
      "execution_count": null,
      "metadata": {
        "collapsed": false
      },
      "outputs": [],
      "source": [
        "df = date_parser(\"../../data/indices/\", dateformat='SM4', verbose=True)\n\n# remove index => Date becomes a column instead of an index. This is\n# required as df_audio_ind, df_spec_ind and df_spec_ind_per_bin do not have \n# date as index. Then we can concatenate all the dataframe.\n#df = df.reset_index()"
      ]
    },
    {
      "cell_type": "markdown",
      "metadata": {},
      "source": [
        "LOAD SOUND AND PREPROCESS SOUND  \n\n"
      ]
    },
    {
      "cell_type": "code",
      "execution_count": null,
      "metadata": {
        "collapsed": false
      },
      "outputs": [],
      "source": [
        "df_indices = pd.DataFrame()\ndf_indices_per_bin = pd.DataFrame()\n    \nfor index, row in df.iterrows() : \n    \n    # get the full filename of the corresponding row\n    fullfilename = row['file']\n    # Save file basename\n    path, filename = os.path.split(fullfilename)\n    print ('\\n**************************************************************')\n    print (filename)\n    \n    #### Load the original sound (16bits) and get the sampling frequency fs\n    try :\n        wave,fs = sound.load(filename=fullfilename, channel='left', detrend=True, verbose=False)\n\n    except:\n        # Delete the row if the file does not exist or raise a value error (i.e. no EOF)\n        df.drop(index, inplace=True)\n        continue\n    \n    \"\"\" =======================================================================\n                     Computation in the time domain \n    ========================================================================\"\"\" \n    \n    # Parameters of the audio recorder. This is not a mandatory but it allows\n    # to compute the sound pressure level of the audio file (dB SPL) as a \n    # sonometer would do.\n    S = -35         # Sensbility microphone-35dBV (SM4) / -18dBV (Audiomoth)   \n    G = 26+16       # Amplification gain (26dB (SM4 preamplifier))\n\n    # compute all the audio indices and store them into a DataFrame\n    # dB_threshold and rejectDuration are used to select audio events.\n    df_audio_ind = features.all_temporal_alpha_indices(wave, fs, \n                                          gain = G, sensibility = S,\n                                          dB_threshold = 3, rejectDuration = 0.01,\n                                          verbose = False, display = False)\n    \n    \"\"\" =======================================================================\n                     Computation in the frequency domain \n    ========================================================================\"\"\"\n \n    # Compute the Power Spectrogram Density (PSD) : Sxx_power\n    Sxx_power,tn,fn,ext = sound.spectrogram (wave, fs, window='hanning', \n                                             nperseg = 1024, noverlap=1024//2, \n                                             verbose = False, display = False, \n                                             savefig = None)   \n    \n    # compute all the spectral indices and store them into a DataFrame \n    # flim_low, flim_mid, flim_hi corresponds to the frequency limits in Hz \n    # that are required to compute somes indices (i.e. NDSI)\n    # if R_compatible is set to 'soundecology', then the output are similar to \n    # soundecology R package.\n    # mask_param1 and mask_param2 are two parameters to find the regions of \n    # interest (ROIs). These parameters need to be adapted to the dataset in \n    # order to select ROIs\n    df_spec_ind, df_spec_ind_per_bin = features.all_spectral_alpha_indices(Sxx_power,\n                                                            tn,fn,\n                                                            flim_low = [0,1500], \n                                                            flim_mid = [1500,8000], \n                                                            flim_hi  = [8000,20000], \n                                                            gain = G, sensitivity = S,\n                                                            verbose = False, \n                                                            R_compatible = 'soundecology',\n                                                            mask_param1 = 6, \n                                                            mask_param2=0.5,\n                                                            display = False)\n    \n    \"\"\" =======================================================================\n                     Create a dataframe \n    ========================================================================\"\"\"\n    # First, we create a dataframe from row that contains the date and the \n    # full filename. This is done by creating a DataFrame from row (ie. TimeSeries)\n    # then transposing the DataFrame. \n    df_row = pd.DataFrame(row)\n    df_row =df_row.T\n    df_row.index.name = 'Date'\n    df_row = df_row.reset_index()\n\n    # add scalar indices into the df_indices dataframe\n    df_indices = df_indices.append(pd.concat([df_row,\n                                              df_audio_ind,\n                                              df_spec_ind], axis=1))\n    # add vector indices into the df_indices_per_bin dataframe\n    df_indices_per_bin = df_indices_per_bin.append(pd.concat([df_row, \n                                                              df_spec_ind_per_bin], axis=1))\n# Set back Date as index\ndf_indices = df_indices.set_index('Date')\ndf_indices_per_bin = df_indices_per_bin.set_index('Date')"
      ]
    },
    {
      "cell_type": "markdown",
      "metadata": {},
      "source": [
        "After calculating all alpha indices (in audio and spectral domain), let's \nhave a look to the data. \nFirst, plot correlation map of all indices. We set the R threshold to 0 in\norder to have everything. If you want to focus on highly correlated indices\nset the threshold to 0.75 for instance.\n\n"
      ]
    },
    {
      "cell_type": "code",
      "execution_count": null,
      "metadata": {
        "collapsed": false
      },
      "outputs": [],
      "source": [
        "fig, ax = plot_correlation_map(df_indices, R_threshold=0)"
      ]
    },
    {
      "cell_type": "markdown",
      "metadata": {},
      "source": [
        "A graphical way to have a quick overview of the indices variation during \na 24h cycle consists in plotting heatmaps of indices \nFor a better view, we seperate spectral and audio indices.\n\n"
      ]
    },
    {
      "cell_type": "code",
      "execution_count": null,
      "metadata": {
        "collapsed": false
      },
      "outputs": [],
      "source": [
        "plot_features_map(df_indices[SPECTRAL_FEATURES], mode='24h')\nplot_features_map(df_indices[TEMPORAL_FEATURES], mode='24h')\n\n# A more classical way to analyse variations of indices consists in plotting\n# graphs. We choose to normalize rescale their value between 0 to 1 in order to\n# compare their trend during a 24h cycle \nimport matplotlib.pyplot as plt\nfig, ax = plt.subplots(3,2, sharex=True, squeeze=True, figsize=(5,5))\n   \nfig, ax[0,0] = plot_features(df_indices[['Hf']],norm=True,mode='24h', ax=ax[0,0])  \nfig, ax[0,1] = plot_features(df_indices[['AEI']],norm=True,mode='24h', ax=ax[0,1])\nfig, ax[1,0] = plot_features(df_indices[['NDSI']],norm=True,mode='24h', ax=ax[1,0])\nfig, ax[1,1] = plot_features(df_indices[['ACI']],norm=True,mode='24h', ax=ax[1,1])\nfig, ax[2,0] = plot_features(df_indices[['MED']],norm=True,mode='24h', ax=ax[2,0])\nfig, ax[2,1] = plot_features(df_indices[['ROItotal']],norm=True,mode='24h', ax=ax[2,1])"
      ]
    },
    {
      "cell_type": "markdown",
      "metadata": {},
      "source": [
        "Create false color spectrograms with 3 indices\n\n"
      ]
    },
    {
      "cell_type": "code",
      "execution_count": null,
      "metadata": {
        "collapsed": false
      },
      "outputs": [],
      "source": [
        "fcs, triplet = false_Color_Spectro(df_indices_per_bin,\n                                   indices = ['KURTt_per_bin',\n                                              'EVNspCount_per_bin',\n                                              'MEANt_per_bin'],\n                                   reverseLUT=False,\n                                   unit='hours',\n                                   permut=False,\n                                   display=True,\n                                   figsize=(4,7))"
      ]
    }
  ],
  "metadata": {
    "kernelspec": {
      "display_name": "Python 3",
      "language": "python",
      "name": "python3"
    },
    "language_info": {
      "codemirror_mode": {
        "name": "ipython",
        "version": 3
      },
      "file_extension": ".py",
      "mimetype": "text/x-python",
      "name": "python",
      "nbconvert_exporter": "python",
      "pygments_lexer": "ipython3",
      "version": "3.7.10"
    }
  },
  "nbformat": 4,
  "nbformat_minor": 0
}