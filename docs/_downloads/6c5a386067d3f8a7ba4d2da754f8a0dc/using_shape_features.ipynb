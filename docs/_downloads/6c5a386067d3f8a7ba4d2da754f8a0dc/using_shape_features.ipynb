{
  "cells": [
    {
      "cell_type": "code",
      "execution_count": null,
      "metadata": {
        "collapsed": false
      },
      "outputs": [],
      "source": [
        "%matplotlib inline"
      ]
    },
    {
      "cell_type": "markdown",
      "metadata": {},
      "source": [
        "\nUsing wavelets to characterize the time-frequency shape of sounds\n=================================================================\n\n@author:\n"
      ]
    },
    {
      "cell_type": "code",
      "execution_count": null,
      "metadata": {
        "collapsed": false
      },
      "outputs": [],
      "source": [
        "from maad.sound import load, spectrogram\nfrom maad.features import shape_features, plot_shape\nfrom maad.util import format_features, read_audacity_annot, power2dB\nfrom maad.rois import overlay_rois\n\nimport numpy as np\nimport matplotlib.pyplot as plt\n\nfrom sklearn.decomposition import PCA\nfrom sklearn import preprocessing\n\ns, fs = load('../data/spinetail.wav')\nrois_tf = read_audacity_annot('../data/spinetail.txt')  ## annotations using Audacity\nrois_cr = rois_tf.loc[rois_tf.label=='CRER',]  \nrois_sp = rois_tf.loc[rois_tf.label=='SP',]\n\nSxx_power, ts, f, ext = spectrogram(s, fs)\nSxx_dB = power2dB(Sxx_power, db_range=90) + 96\n\n# Visualize large vocalizations\nrois_cr = format_features(rois_cr, ts, f)\noverlay_rois(Sxx_dB, rois_cr, **{'extent':ext, 'vmin':0, 'vmax':80})\n\n# Visualize short vocalizations\nrois_sp = format_features(rois_sp, ts, f)\noverlay_rois(Sxx_dB, rois_sp, **{'extent':ext, 'vmin':0, 'vmax':80})\n\n# Compute an visualize features\nshape_cr, params = shape_features(Sxx_dB, resolution='med', rois=rois_cr)\nax = plot_shape(shape_cr.mean(), params)\n\nshape_sp, params = shape_features(Sxx_dB, resolution='med', rois=rois_sp)\nax = plot_shape(shape_sp.mean(), params)\n\n######## Simple clustering with PCA\n\n# join both shapes dataframe\nfeatures = shape_cr.append(shape_sp)\n\n# Standardizing the dataset\nX = features.filter(regex='shp*',axis='columns')\nX_shape = X.values.shape\nX = X.values.flatten()\nX = X.reshape(-1, 1)\nX = preprocessing.StandardScaler().fit_transform(X)\nX = X.reshape(X_shape)\nY = np.asarray(features['label'])\ntarget_names = np.unique(Y)\n\n# Calculate PCA\npca = PCA(n_components=2)\nX_r = pca.fit(X).transform(X)\n\n# Percentage of variance explained for each components\nprint('explained variance ratio (first two components): %s'\n      % str(pca.explained_variance_ratio_))\n\n# Plot PCA result\nplt.figure()\ncolors = ['navy', 'darkorange']\nlw = 2\nfor color, i in zip(colors, np.unique(Y)):\n    plt.scatter(X_r[Y == i, 0], X_r[Y == i, 1], \n                color=color, alpha=.8, lw=lw, label=i)\nplt.legend(loc='best', shadow=False, scatterpoints=1)\nplt.title('PCA')"
      ]
    }
  ],
  "metadata": {
    "kernelspec": {
      "display_name": "Python 3",
      "language": "python",
      "name": "python3"
    },
    "language_info": {
      "codemirror_mode": {
        "name": "ipython",
        "version": 3
      },
      "file_extension": ".py",
      "mimetype": "text/x-python",
      "name": "python",
      "nbconvert_exporter": "python",
      "pygments_lexer": "ipython3",
      "version": "3.7.5"
    }
  },
  "nbformat": 4,
  "nbformat_minor": 0
}