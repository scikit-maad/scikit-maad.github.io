{
  "cells": [
    {
      "cell_type": "markdown",
      "metadata": {},
      "source": [
        "\n# Simulation of sound degradation due to geometric, atmospheric and habitat attenuation\n\nWhen sound travels in air (or in water), initial acoustic signature may change \nregarding distances due to attenuation. Sound attenuation in natural environment \nis very complex to model. We propose to reduce the complexity by decomposing \nthe sound attenuation to three main sources of attenuation : \n- the geometric attenuation (Ageo) also known as spreading loss or geometric \ndispersion, \n- the atmospheric attenuation (Aatm) \n- and the habitat attenuation (Ahab). The later encompasses several sources of \nattenuation and might be seen as a proxy.\n"
      ]
    },
    {
      "cell_type": "markdown",
      "metadata": {},
      "source": [
        "## Load required modules\n\n"
      ]
    },
    {
      "cell_type": "code",
      "execution_count": null,
      "metadata": {
        "collapsed": false
      },
      "outputs": [],
      "source": [
        "import matplotlib.pyplot as plt\nfrom maad import sound, spl, util"
      ]
    },
    {
      "cell_type": "markdown",
      "metadata": {},
      "source": [
        "## Load the sound and conversion into sound pressure\n When working with sound attenuation in real environment, it is essential to\n know the sound pressure level at a certain distance (generally 1m). Here\n we used spinetail sound. We assume that its sound level at 1m = 85dB SPL.\n It is also essential to be able to tranform the signal recorded by the\n recorder into sound pressure level. Here, the audio recorder is a SM4 \n (Wildlife Acoustics) which is an autonomous recording unit (ARU) from\n Wildlife. The sensitivity of the internal microphone is -35dBV and the \n maximal voltage converted by the analog to digital convertor (ADC) is 2Vpp \n (peak to peak). The gain used for the recording is a combination of\n the internal pre-amplifier of the SM4, which is 26dB and the adjustable gain\n which was 16dB. So the total gain applied to the signal is : 42dB\n\n"
      ]
    },
    {
      "cell_type": "code",
      "execution_count": null,
      "metadata": {
        "collapsed": false
      },
      "outputs": [],
      "source": [
        "# We load the sound\nw, fs = sound.load('../../data/spinetail.wav') \n# We convert the sound into sound pressure level (Pa)\np0 = spl.wav2pressure(wave=w, gain=42, Vadc=2, sensitivity=-35)"
      ]
    },
    {
      "cell_type": "markdown",
      "metadata": {},
      "source": [
        "## Selection of the signal and the background noise\n We select part of the sound with the spinetail signal\n\n"
      ]
    },
    {
      "cell_type": "code",
      "execution_count": null,
      "metadata": {
        "collapsed": false
      },
      "outputs": [],
      "source": [
        "p0_sig = p0[int(5.68*fs):int(7.48*fs)] \n# We select part of the sound with background\np0_noise = p0[int(8.32*fs):int(10.12*fs)]"
      ]
    },
    {
      "cell_type": "markdown",
      "metadata": {},
      "source": [
        "We convert the spinetail signal into spectrogram\n\n"
      ]
    },
    {
      "cell_type": "code",
      "execution_count": null,
      "metadata": {
        "collapsed": false
      },
      "outputs": [],
      "source": [
        "Sxx_power, tn, fn, ext = sound.spectrogram(p0_sig ,fs, \n                                           display = True, figsize=[4,10], title = 'signal + noise')"
      ]
    },
    {
      "cell_type": "markdown",
      "metadata": {},
      "source": [
        "We convert the background signal into spectrogram\n\n"
      ]
    },
    {
      "cell_type": "code",
      "execution_count": null,
      "metadata": {
        "collapsed": false
      },
      "outputs": [],
      "source": [
        "Sxx_power_noise, tn, fn, ext = sound.spectrogram(p0_noise ,fs, \n                                                 display = True, figsize=[4,10], title = 'noise alone')"
      ]
    },
    {
      "cell_type": "markdown",
      "metadata": {},
      "source": [
        "Then, we convert both spectrograms into dB. We choose a dB range of 96dB which\nis the maximal range for a 16 bits signal.\n\n"
      ]
    },
    {
      "cell_type": "code",
      "execution_count": null,
      "metadata": {
        "collapsed": false
      },
      "outputs": [],
      "source": [
        "Sxx_dB = util.power2dB(Sxx_power, db_range=96) + 96\nSxx_dB_noise = util.power2dB(Sxx_power_noise, db_range=96) + 96"
      ]
    },
    {
      "cell_type": "markdown",
      "metadata": {},
      "source": [
        "## Evalution of the distance and sound level of the spinetail \n Before simulating the attenuation of the acoustic signature depending on \n the distance, we need to evaluate the distance at which the signal of the \n spinetail was recordered.\n First, we estimate the sound level L of the spinetail song in the recording \n by selecting the sound between 6000-7000 Hz.\n We compute fast Leq (the equivalent sound level) within 100ms window and\n take the maximum Leq to be the estimated L of the call\n\n"
      ]
    },
    {
      "cell_type": "code",
      "execution_count": null,
      "metadata": {
        "collapsed": false
      },
      "outputs": [],
      "source": [
        "F1 = 6000\nF2 = 7000 \np0_sig_bw= sound.select_bandwidth(p0_sig,\n                                  fs,\n                                  fcut=[F1,F2],\n                                  forder=10, \n                                  ftype='bandpass')\nL =  max(spl.pressure2leq(p0_sig_bw, fs, dt=0.1)) \nprint ('Sound Level measured : %2.2fdB SPL' %L)"
      ]
    },
    {
      "cell_type": "markdown",
      "metadata": {},
      "source": [
        "## Evalution of the distance between the ARU and the spinetail \n Then, knowing the sound level L at the position of the ARU, we can estimate \n the maximum distance between the ARU and the position of the spinetail. \n This estimation takes into account the geometric, atmospheric and habitat\n attenuation (here, we use the default values to define atmospheric and \n habitat attenuation). This distance will be the reference distance r0\n\n"
      ]
    },
    {
      "cell_type": "code",
      "execution_count": null,
      "metadata": {
        "collapsed": false
      },
      "outputs": [],
      "source": [
        "f,r0 = spl.detection_distance(L, \n                              L0=85, \n                              f=(F1+F2)/2) \nprint ('Max distance between ARU and spinetail is estimated to be %2.0fm' % r0)"
      ]
    },
    {
      "cell_type": "markdown",
      "metadata": {},
      "source": [
        "## Evalution of the maximum distance of propagation of the spinetail song\n Finally, we can estimate the detection distance or active distance of the \n spinetail which corresponds to the distance at which the call of the spinetail\n is below the noise level.\n First, we estimate the sound level of the background noise L_bkg_bw \n around the frequency bandwidth of the spinetail. We set background noise\n to min Leq.\n Then we estimate the average detection distance of the spinetail call \n (assuming that the initial level of the call @1m is 85dB SPL)\n\n"
      ]
    },
    {
      "cell_type": "code",
      "execution_count": null,
      "metadata": {
        "collapsed": false
      },
      "outputs": [],
      "source": [
        "p0_noise_bw = sound.select_bandwidth(p0_noise,\n                                     fs,\n                                     fcut=[F1,F2],\n                                     forder=10, \n                                     ftype='bandpass')\nL_bkg_bw = min(spl.pressure2leq(p0_noise_bw, fs, dt=0.1))\nf, r = spl.detection_distance (L_bkg_bw, \n                               L0=85, \n                               f=(F1+F2)/2) \nprint('Max active distance is %2.1fm' %r)"
      ]
    },
    {
      "cell_type": "markdown",
      "metadata": {},
      "source": [
        "Let's see the contribution of each type of attenuation\n\n"
      ]
    },
    {
      "cell_type": "code",
      "execution_count": null,
      "metadata": {
        "collapsed": false
      },
      "outputs": [],
      "source": [
        "_, df = spl.attenuation_dB (f=(F1+F2)/2, \n                            r=r, \n                            r0=1)\n\nprint(df)"
      ]
    },
    {
      "cell_type": "markdown",
      "metadata": {},
      "source": [
        "## Simulation of the attenuation of the acoustic signature at different distances\n Knowing the distance r0 at which the signal was recorded from the source,\n we can simulate the attenuation of the acoustic signature depending on\n different distance of propagation.\n Here, we will simulate the attenuation of the signal after propagating 10m, \n 50m, 100m, 200m\n\n"
      ]
    },
    {
      "cell_type": "markdown",
      "metadata": {},
      "source": [
        "Compute the attenuation of the recorded spinetail song at 10m.\n\n"
      ]
    },
    {
      "cell_type": "code",
      "execution_count": null,
      "metadata": {
        "collapsed": false
      },
      "outputs": [],
      "source": [
        "p_att = spl.apply_attenuation(p0_sig, fs, r0 = r0, r = 10)\nSxx_power_att, tn, fn, ext = sound.spectrogram(p_att,fs)\nSxx_dB_att_10m = util.power2dB(Sxx_power_att,db_range=96) + 96"
      ]
    },
    {
      "cell_type": "markdown",
      "metadata": {},
      "source": [
        "Compute the attenuation of the recorded spinetail song at 50m.\n\n"
      ]
    },
    {
      "cell_type": "code",
      "execution_count": null,
      "metadata": {
        "collapsed": false
      },
      "outputs": [],
      "source": [
        "p_att = spl.apply_attenuation(p0_sig, fs, r0 = r0, r = 50)\nSxx_power_att, tn, fn, ext = sound.spectrogram(p_att,fs)\nSxx_dB_att_50m = util.power2dB(Sxx_power_att,db_range=96) + 96"
      ]
    },
    {
      "cell_type": "markdown",
      "metadata": {},
      "source": [
        "Compute the attenuation of the recorded spinetail song at 100m.\n\n"
      ]
    },
    {
      "cell_type": "code",
      "execution_count": null,
      "metadata": {
        "collapsed": false
      },
      "outputs": [],
      "source": [
        "p_att = spl.apply_attenuation(p0_sig, fs, r0 = r0, r = 100)\nSxx_power_att, tn, fn, ext = sound.spectrogram(p_att,fs)\nSxx_dB_att_100m = util.power2dB(Sxx_power_att,db_range=96) + 96"
      ]
    },
    {
      "cell_type": "markdown",
      "metadata": {},
      "source": [
        "Compute the attenuation of the recorded spinetail song at 200m.\n\n"
      ]
    },
    {
      "cell_type": "code",
      "execution_count": null,
      "metadata": {
        "collapsed": false
      },
      "outputs": [],
      "source": [
        "p_att = spl.apply_attenuation(p0_sig, fs, r0 = r0, r = 200)\nSxx_power_att, tn, fn, ext = sound.spectrogram(p_att,fs)\nSxx_dB_att_200m = util.power2dB(Sxx_power_att,db_range=96) + 96"
      ]
    },
    {
      "cell_type": "markdown",
      "metadata": {},
      "source": [
        "Add noise to the signal.\nWe add real noise recorded just after the song of the spinetail.\n\n"
      ]
    },
    {
      "cell_type": "code",
      "execution_count": null,
      "metadata": {
        "collapsed": false
      },
      "outputs": [],
      "source": [
        "Sxx_dB_att_10m = util.add_dB(Sxx_dB_att_10m,Sxx_dB_noise) \nSxx_dB_att_50m = util.add_dB(Sxx_dB_att_50m,Sxx_dB_noise)  \nSxx_dB_att_100m = util.add_dB(Sxx_dB_att_100m,Sxx_dB_noise)  \nSxx_dB_att_200m = util.add_dB(Sxx_dB_att_200m,Sxx_dB_noise)"
      ]
    },
    {
      "cell_type": "markdown",
      "metadata": {},
      "source": [
        "Plot attenuated spectrograms at different distances of propagation.\nWe can observe that the highest frequency content (harmonics) disappears first.\nWe can also observe that at 200m, almost none of the spinetail signal is still\nvisible. Only the background noise, with the call of another species remains\n\n"
      ]
    },
    {
      "cell_type": "code",
      "execution_count": null,
      "metadata": {
        "collapsed": false
      },
      "outputs": [],
      "source": [
        "fig, (ax1, ax2, ax3, ax4) = plt.subplots(1,4, sharex=True, figsize=(15,3))\nutil.plot2d(Sxx_dB_att_10m, title='10m',   ax=ax1, extent=ext, vmin=0, vmax=96, figsize=[3,3])\nutil.plot2d(Sxx_dB_att_50m, title='50m',   ax=ax2, extent=ext, vmin=0, vmax=96, figsize=[3,3])\nutil.plot2d(Sxx_dB_att_100m, title='100m', ax=ax3, extent=ext, vmin=0, vmax=96, figsize=[3,3])\nutil.plot2d(Sxx_dB_att_200m, title='200m', ax=ax4, extent=ext, vmin=0, vmax=96, figsize=[3,3])"
      ]
    }
  ],
  "metadata": {
    "kernelspec": {
      "display_name": "Python 3",
      "language": "python",
      "name": "python3"
    },
    "language_info": {
      "codemirror_mode": {
        "name": "ipython",
        "version": 3
      },
      "file_extension": ".py",
      "mimetype": "text/x-python",
      "name": "python",
      "nbconvert_exporter": "python",
      "pygments_lexer": "ipython3",
      "version": "3.10.13"
    }
  },
  "nbformat": 4,
  "nbformat_minor": 0
}