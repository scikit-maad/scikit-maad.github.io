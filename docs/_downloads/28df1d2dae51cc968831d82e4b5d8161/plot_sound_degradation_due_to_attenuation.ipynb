{
  "cells": [
    {
      "cell_type": "code",
      "execution_count": null,
      "metadata": {
        "collapsed": false
      },
      "outputs": [],
      "source": [
        "%matplotlib inline"
      ]
    },
    {
      "cell_type": "markdown",
      "metadata": {},
      "source": [
        "\nSimulation of sound degradation due to geometric, atmospheric and habitat attenuation\n=====================================================================================\n\nWhen sound travels in air (or in water), initial acoustic signature may change \nregarding distances due to attenuation. Sound attenuation in natural environment \nis very complex to model. We propose to reduce the complexity by decomposing \nthe sound attenuation to three main sources of attenuation : \n- the geometric attenuation (Ageo) also known as spreading loss or geometric \ndispersion, \n- the atmospheric attenuation (Aatm) \n- and the habitat attenuation (Ahab). The later encompasses several sources of \nattenuation and might be seen as a proxy.\n"
      ]
    },
    {
      "cell_type": "code",
      "execution_count": null,
      "metadata": {
        "collapsed": false
      },
      "outputs": [],
      "source": [
        "# sphinx_gallery_thumbnail_path = '../_images/sphx_glr_plot_sound_degradation_due_to_attenuation.png'\n\nfrom maad import sound, spl, util"
      ]
    },
    {
      "cell_type": "markdown",
      "metadata": {},
      "source": [
        "When working with sound attenuation in real environment, it is essential to\nknow the sound pressure level at a certain distance (generally 1m). Here\nwe used spinetail sound. We assume that its sound level @1m = 85dB SPL.\nIt is also essential to be able to tranform the signal recorded by the\nrecorder into sound pressure level. Here, the audio recorder is a SM4 \n(Wildlife Acoustics) which is an autonomous recording unit (ARU) from\nWildlife. The sensitivity of the internal microphone is -35dBV and the \nmaximal voltage converted by the analog to digital convertor (ADC) is 2Vpp \n(peak to peak). The gain used for the recording is a combination of\nthe internal pre-amplifier of the SM4, which is 26dB and the adjustable gain\nwhich was 16dB. So the total gain applied to the signal is : 42dB\n\n"
      ]
    },
    {
      "cell_type": "code",
      "execution_count": null,
      "metadata": {
        "collapsed": false
      },
      "outputs": [],
      "source": [
        "# We load the sound\nw, fs = sound.load('../../data/spinetail.wav') \n# We convert the sound into sound pressure level (Pa)\np0 = spl.wav2pressure(wave=w, gain=42, Vadc=2, sensitivity=-35)\n# We select part of the sound with the spinetail signal\np0_sig = p0[int(5.68*fs):int(7.48*fs)] \n# We select part of the sound with background\np0_noise = p0[int(8.32*fs):int(10.12*fs)] \n# We convert both signals into spectrograms\nSxx_power, tn, fn, ext = sound.spectrogram(p0_sig ,fs)\nSxx_power_noise, tn, fn, ext = sound.spectrogram(p0_noise ,fs)\n# We convert both spectrograms into dB. We choose a dB range of 96dB which\n# is the maximal range for a 16 bits signal.\nSxx_dB = util.power2dB(Sxx_power, db_range=96) + 96\nSxx_dB_noise = util.power2dB(Sxx_power_noise, db_range=96) + 96"
      ]
    },
    {
      "cell_type": "markdown",
      "metadata": {},
      "source": [
        "Before simulating the attenuation of the acoustic signature depending on \nthe distance, we need to evaluate the distance at which the signal of the \nspinetail was recordered.\nFirst, we estimate the sound level L of the spinetail song in the recording \nby selected the sound between 4900-7500 Hz.\n\n"
      ]
    },
    {
      "cell_type": "code",
      "execution_count": null,
      "metadata": {
        "collapsed": false
      },
      "outputs": [],
      "source": [
        "p0_sig_4900_7500 = sound.select_bandwidth(p0_sig,fs,fcut=[4900,7300],\n                                          forder=10, ftype='bandpass')\nL = spl.pressure2leq(p0_sig_4900_7500, fs) \nprint ('Sound Level measured : %2.2fdB SPL' %L)\n  \n# Then, knowing the sound level L at the position of the ARU, we can estimate \n# the maximum distance between the ARU and the position of the spinetail. \n# This estimation takes into account the geometric, atmospheric and habitat\n# attenuation (here, we use the default values to define atmospheric and \n# habitat attenuation). This distance will be the reference distance r0\nf,r0 = spl.active_distance(L, 85, f=(7500+4900)/2) \nprint ('Max distance between ARU and spinetail is estimated to be%2.0fm' %r0)"
      ]
    },
    {
      "cell_type": "markdown",
      "metadata": {},
      "source": [
        "knowing the distance r0 at which the signal was recorded from the source,\nwe can simulate the attenuation of the acoustic signature depending on\ndifferent distance of propagation.\nHere, we will simulate the attenuation of the signal after propagating 10m, \n20m, 40m, 80m\n\n"
      ]
    },
    {
      "cell_type": "code",
      "execution_count": null,
      "metadata": {
        "collapsed": false
      },
      "outputs": [],
      "source": [
        "# plot original spectrogram\nimport matplotlib.pyplot as plt\nfig, (ax1, ax2, ax3, ax4, ax5) = plt.subplots(1,5, sharex=True, figsize=(15,3))\nutil.plot2d(Sxx_dB, title=\"original\", ax=ax1, extent=ext, vmin=0, vmax=70, figsize=[3,3])\n\n# Compute the attenuation of the recorded spinetail song at 10m.\np_att = spl.apply_attenuation(p0_sig, fs, r0=5, r = 10)\nSxx_power_att, tn, fn, ext = sound.spectrogram(p_att,fs)\nSxx_dB_att_10m = util.power2dB(Sxx_power_att,db_range=96) + 96 \n\n# Compute the attenuation of the recorded spinetail song at 20m.\np_att = spl.apply_attenuation(p0_sig, fs, r0=5, r = 20)\nSxx_power_att, tn, fn, ext = sound.spectrogram(p_att,fs)\nSxx_dB_att_20m = util.power2dB(Sxx_power_att,db_range=96) + 96 \n\n# Compute the attenuation of the recorded spinetail song at 40m.\np_att = spl.apply_attenuation(p0_sig, fs, r0=5, r = 40)\nSxx_power_att, tn, fn, ext = sound.spectrogram(p_att,fs)\nSxx_dB_att_40m = util.power2dB(Sxx_power_att,db_range=96) + 96 \n\n# Compute the attenuation of the recorded spinetail song at 80m.\np_att = spl.apply_attenuation(p0_sig, fs, r0=5, r = 80)\nSxx_power_att, tn, fn, ext = sound.spectrogram(p_att,fs)\nSxx_dB_att_80m = util.power2dB(Sxx_power_att,db_range=96) + 96 \n\n# Add noise to the signal.\n# We add real noise recorded just after the song of the spinetail.\n# We subtracted 3dB in order to take the mean between the noise and the signal\n\nSxx_dB_att_10m = util.add_dB(Sxx_dB_att_10m,Sxx_dB_noise) - 3 \nSxx_dB_att_20m = util.add_dB(Sxx_dB_att_20m,Sxx_dB_noise) - 3 \nSxx_dB_att_40m = util.add_dB(Sxx_dB_att_40m,Sxx_dB_noise) - 3 \nSxx_dB_att_80m = util.add_dB(Sxx_dB_att_80m,Sxx_dB_noise) - 3 \n  \n# Plot attenuated spectrogram.\n\nutil.plot2d(Sxx_dB_att_10m, title='10m', ax=ax2, extent=ext, vmin=0, vmax=70, figsize=[3,3])\nutil.plot2d(Sxx_dB_att_20m, title='20m', ax=ax3, extent=ext, vmin=0, vmax=70, figsize=[3,3])\nutil.plot2d(Sxx_dB_att_40m, title='40m', ax=ax4, extent=ext, vmin=0, vmax=70, figsize=[3,3])\nutil.plot2d(Sxx_dB_att_80m, title='80m', ax=ax5, extent=ext, vmin=0, vmax=70, figsize=[3,3])"
      ]
    }
  ],
  "metadata": {
    "kernelspec": {
      "display_name": "Python 3",
      "language": "python",
      "name": "python3"
    },
    "language_info": {
      "codemirror_mode": {
        "name": "ipython",
        "version": 3
      },
      "file_extension": ".py",
      "mimetype": "text/x-python",
      "name": "python",
      "nbconvert_exporter": "python",
      "pygments_lexer": "ipython3",
      "version": "3.7.5"
    }
  },
  "nbformat": 4,
  "nbformat_minor": 0
}