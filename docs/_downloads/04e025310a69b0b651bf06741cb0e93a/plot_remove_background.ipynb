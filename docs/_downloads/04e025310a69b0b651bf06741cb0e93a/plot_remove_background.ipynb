{
  "cells": [
    {
      "cell_type": "markdown",
      "metadata": {},
      "source": [
        "\n# Remove background noise with signal processing tools\n\nEnvironmental audio recordings usually have stationary noise that needs to be removed to\nenhance the signal to noise ratio of biological sounds.\nThis example shows different ways to remove stationary background noise using spectral \nsubtraction techniques. These techniques are applied over the spectrogram and return a 2D matrix. \nWe use the sharpness metric to have a quantitative estimation of how well is the noise \nreduction. For a more comprehensive analysis, other metrics should be use in complement.\n"
      ]
    },
    {
      "cell_type": "code",
      "execution_count": null,
      "metadata": {
        "collapsed": false
      },
      "outputs": [],
      "source": [
        "# sphinx_gallery_thumbnail_path = './_images/sphx_glr_plot_remove_background_002.png'"
      ]
    },
    {
      "cell_type": "markdown",
      "metadata": {},
      "source": [
        "## Load required modules\n\n"
      ]
    },
    {
      "cell_type": "code",
      "execution_count": null,
      "metadata": {
        "collapsed": false
      },
      "outputs": [],
      "source": [
        "from maad.util import plot2d, power2dB, dB2power\nfrom maad.sound import (load, spectrogram, \n                       remove_background, median_equalizer, \n                       remove_background_morpho, \n                       remove_background_along_axis, \n                       pcen)\nfrom maad.sound import spectral_snr\nimport numpy as np\n\nfrom timeit import default_timer as timer\n\nimport matplotlib.pyplot as plt"
      ]
    },
    {
      "cell_type": "markdown",
      "metadata": {},
      "source": [
        "## Load and plot the spectrogram of the original audio file\nFirst, we load the audio file and take its spectrogram.\nThe linear spectrogram is then transformed into dB. The dB range is  96dB \nwhich is the maximum dB range value for a 16bits audio recording. We add\n96dB in order to get have only positive values in the spectrogram.\n\n"
      ]
    },
    {
      "cell_type": "code",
      "execution_count": null,
      "metadata": {
        "collapsed": false
      },
      "outputs": [],
      "source": [
        "s, fs = load('../../data/tropical_forest_morning.wav')\nSxx, tn, fn, ext = spectrogram(s, fs, fcrop=[0,20000], tcrop=[0,60])\nSxx_dB = power2dB(Sxx, db_range=96) + 96\nprint(\"SNR = %2.3f dB\" % spectral_snr(Sxx)[2])\n\nplot2d(Sxx_dB, extent=ext, title='original',\n       vmin=np.median(Sxx_dB), vmax=np.median(Sxx_dB)+40)"
      ]
    },
    {
      "cell_type": "markdown",
      "metadata": {},
      "source": [
        "## Test different methods to remove stationary background noise\nTest the function \"remove_background\"\n\n"
      ]
    },
    {
      "cell_type": "code",
      "execution_count": null,
      "metadata": {
        "collapsed": false
      },
      "outputs": [],
      "source": [
        "start = timer()\nX1, noise_profile1, _ = remove_background(Sxx_dB)\nelapsed_time = timer() - start\nprint(\"---- test remove_background -----\")\nprint(\"duration %2.3f s\" % elapsed_time)\nprint(\"SNR = %2.3f dB\" % spectral_snr(dB2power(X1))[2])\n\nplot2d(X1, extent=ext, title='remove_background',\n       vmin=np.median(X1), vmax=np.median(X1)+40)"
      ]
    },
    {
      "cell_type": "markdown",
      "metadata": {},
      "source": [
        "Test the function \"median_equalizer\"\n\n"
      ]
    },
    {
      "cell_type": "code",
      "execution_count": null,
      "metadata": {
        "collapsed": false
      },
      "outputs": [],
      "source": [
        "start = timer()\nX2 = median_equalizer(Sxx)\nX2 = power2dB(X2)\nelapsed_time = timer() - start\nprint(\"---- test median_equalizer -----\")\nprint(\"duration %2.3f s\" % elapsed_time)\nprint(\"SNR = %2.3f dB\" % spectral_snr(dB2power(X2))[2])\n\nplot2d(X2,extent=ext, title='median_equalizer',\n       vmin=np.median(X2), vmax=np.median(X2)+40)"
      ]
    },
    {
      "cell_type": "markdown",
      "metadata": {},
      "source": [
        "Test the function \"remove_background_morpho\"\n\n"
      ]
    },
    {
      "cell_type": "code",
      "execution_count": null,
      "metadata": {
        "collapsed": false
      },
      "outputs": [],
      "source": [
        "start = timer()\nX3, noise_profile3,_ = remove_background_morpho(Sxx_dB, q=0.95) \nelapsed_time = timer() - start\nprint(\"---- test remove_background_morpho -----\")\nprint(\"duration %2.3f s\" % elapsed_time)\nprint(\"SNR = %2.3f dB\" % spectral_snr(dB2power(X3))[2])\n\nplot2d(X3, extent=ext, title='remove_background_morpho',\n       vmin=np.median(X3), vmax=np.median(X3)+40)"
      ]
    },
    {
      "cell_type": "markdown",
      "metadata": {},
      "source": [
        "Test the function \"remove_background_along_axis\"\n\n"
      ]
    },
    {
      "cell_type": "code",
      "execution_count": null,
      "metadata": {
        "collapsed": false
      },
      "outputs": [],
      "source": [
        "start = timer()\nX4, noise_profile4 = remove_background_along_axis(Sxx_dB,mode='median', axis=1) \nelapsed_time = timer() - start\nprint(\"---- test remove_background_along_axis -----\")\nprint(\"duration %2.3f s\" % elapsed_time)\nprint(\"SNR = %2.3f dB\" % spectral_snr(dB2power(X4))[2])\n\nplot2d(X4,  extent=ext, title='remove_background_along_axis',\n       vmin=np.median(X4), vmax=np.median(X4)+40)\n\nplt.tight_layout()"
      ]
    },
    {
      "cell_type": "markdown",
      "metadata": {},
      "source": [
        "Test the function \"pcen\"\n\n"
      ]
    },
    {
      "cell_type": "code",
      "execution_count": null,
      "metadata": {
        "collapsed": false
      },
      "outputs": [],
      "source": [
        "start = timer()\nX5, noise_profile5, PCENxx = pcen(Sxx, gain=0.1, bias=5, power=0.25, b=0.01, eps=1e-4)\nX5 = power2dB(X5, db_range=96) + 96\nelapsed_time = timer() - start\nprint(\"---- test pcen -----\")\nprint(\"duration %2.3f s\" % elapsed_time)\nprint(\"SNR = %2.3f dB\" % spectral_snr(dB2power(X5))[2])\n\nplot2d(X5,  extent=ext, title='Per Channel Energy Normalization (PCEN)',\n       vmin=np.median(X5), vmax=np.median(X5)+40)\n\nplt.tight_layout()"
      ]
    }
  ],
  "metadata": {
    "kernelspec": {
      "display_name": "Python 3",
      "language": "python",
      "name": "python3"
    },
    "language_info": {
      "codemirror_mode": {
        "name": "ipython",
        "version": 3
      },
      "file_extension": ".py",
      "mimetype": "text/x-python",
      "name": "python",
      "nbconvert_exporter": "python",
      "pygments_lexer": "ipython3",
      "version": "3.11.11"
    }
  },
  "nbformat": 4,
  "nbformat_minor": 0
}