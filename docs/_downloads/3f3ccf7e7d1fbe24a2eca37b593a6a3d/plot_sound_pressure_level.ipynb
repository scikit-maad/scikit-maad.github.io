{
  "cells": [
    {
      "cell_type": "code",
      "execution_count": null,
      "metadata": {
        "collapsed": false
      },
      "outputs": [],
      "source": [
        "%matplotlib inline"
      ]
    },
    {
      "cell_type": "markdown",
      "metadata": {},
      "source": [
        "\nEstimate sound pressure level from audio recordings\n===================================================\n\nSound pressure level (dB SPL) is a quantitative value that allows comparison of audio \nrecordings coming from different datasets and environments. Sound pressure level \ncorresponds to a quantitative measurement of the acoustic pressure energy. \nAn Automated Recording Unit (ARU) can be converted into a pseudo sound meter level \nknowing few parameters: the sensitivity of the microphone, the amplification\ngain, the bit depth and the voltage range of the analog to digital converter.\nThis is sufficient to convert a wav file (array of intergers) into pressure \n(Pa). Of course, as the frequency response of the ARUs's microphone is never flat, \nthe result is an approximation of the real sound pressure level. In order to be\nmore precise, one should correct the frequency response of the microphone.\n\nIn this example, we will evaluate the variation of the sound pressure level \nof the ambient sound in a cold temperate forest in France during 24h. \n"
      ]
    },
    {
      "cell_type": "code",
      "execution_count": null,
      "metadata": {
        "collapsed": false
      },
      "outputs": [],
      "source": [
        "# Load required packages\nimport pandas as pd\nimport os\nimport numpy as np\nimport matplotlib.pyplot as plt\nfrom maad import sound, util, spl"
      ]
    },
    {
      "cell_type": "markdown",
      "metadata": {},
      "source": [
        "Set variables\n-------------\nIt is very important to always keep the parameters of the ARU that was used \nto collect the audio dataset. This is a mandatory to compute the sound \npressure level of the audio file (dB SPL) as a sound meter level would do.\nFor this experiment, we used a Songmeter 4 (SM4, from Wildlife Acoustics) \nwith an amplification gain of 16dB.\n\n"
      ]
    },
    {
      "cell_type": "code",
      "execution_count": null,
      "metadata": {
        "collapsed": false
      },
      "outputs": [],
      "source": [
        "S = -35         # Sensibility of the microphone -35dBV (SM4) / -18dBV (Audiomoth)   \nG = 26+16       # Total amplification gain in dB (SM4 has a +26dB preamplifier)\nVADC = 2        # Voltage range of the analog to digital converter (ADC)"
      ]
    },
    {
      "cell_type": "markdown",
      "metadata": {},
      "source": [
        "First, we parse the directory /indices in order to get a DataFrame with date \nand fullfilename. As the data was collected with a SM4 audio recording device,\nwe set the dateformat agument to 'SM4' in order to be able to parse the date\nfrom the filename. In case of Audiomoth, the date is coded as Hex in the \nfilename.\n\n"
      ]
    },
    {
      "cell_type": "code",
      "execution_count": null,
      "metadata": {
        "collapsed": false
      },
      "outputs": [],
      "source": [
        "df = util.date_parser(\"../../data/indices/\", dateformat='SM4', verbose=True)"
      ]
    },
    {
      "cell_type": "markdown",
      "metadata": {},
      "source": [
        "Load and preprocess audio\n-------------------------\nThen we process all the files found in the directory /indices.\nInitialisation of an empty dataframe df_spl to store all the dB SPL values \nextracted from the whole audio dataset.\n\n"
      ]
    },
    {
      "cell_type": "code",
      "execution_count": null,
      "metadata": {
        "collapsed": false
      },
      "outputs": [],
      "source": [
        "df_spl = pd.DataFrame()\n\n# Main loop to go through all audio files\nfor index, row in df.iterrows() : \n    \n    # initialisation of an empty list to store the dB SPL of the current\n    # audio recording.\n    leq_list = []\n    \n    # get the full filename of the corresponding row\n    fullfilename = row['file']\n    # Save file basename\n    path, filename = os.path.split(fullfilename)\n    print ('\\n**************************************************************')\n    print (filename)\n    \n    #### Load the original sound (16bits, only left channel) and get the sampling \n    # frequency fs\n    try :\n        wave,fs = sound.load(filename=fullfilename, channel='left', detrend=True, verbose=False)\n\n    except:\n        # Delete the row if the file does not exist or raise a value error (i.e. no EOF)\n        df.drop(index, inplace=True)\n        continue\n    \n    \"\"\" =======================================================================\n                     Computation in the frequency domain \n    ========================================================================\"\"\"\n \n    # Compute the Power Spectrogram Density (PSD) : Sxx_power\n    Sxx_power,tn,fn,ext = sound.spectrogram (wave, fs, window='hanning', \n                                             nperseg = 1024, noverlap=1024//2, \n                                             verbose = False, display = False, \n                                             savefig = None)   \n    \n    \n    #### Average PSD (It's a mandatory to compute the mean on the PSD for \n    # energy conservation)\n    mean_PSD = np.mean(Sxx_power, axis = 1)\n    \n    #### Compute the Leq of each frequency band (1kHz step)\n    leq_list+=[spl.psd2leq(mean_PSD[util.index_bw(fn,(0,1000))], \n                               gain=G, \n                               sensitivity=S, \n                               Vadc=VADC)]\n    leq_list+=[spl.psd2leq(mean_PSD[util.index_bw(fn,(1000,2000))], \n                               gain=G, \n                               sensitivity=S, \n                               Vadc=VADC)]\n    leq_list+=[ spl.psd2leq(mean_PSD[util.index_bw(fn,(2000,3000))], \n                               gain=G, \n                               sensitivity=S, \n                               Vadc=VADC)]\n    leq_list+=[spl.psd2leq(mean_PSD[util.index_bw(fn,(3000,4000))], \n                               gain=G, \n                               sensitivity=S, \n                               Vadc=VADC)]\n    leq_list+=[spl.psd2leq(mean_PSD[util.index_bw(fn,(4000,5000))], \n                               gain=G, \n                               sensitivity=S, \n                               Vadc=VADC)]\n    leq_list+=[spl.psd2leq(mean_PSD[util.index_bw(fn,(5000,6000))], \n                               gain=G, \n                               sensitivity=S, \n                               Vadc=VADC)]\n    leq_list+=[spl.psd2leq(mean_PSD[util.index_bw(fn,(6000,7000))], \n                               gain=G, \n                               sensitivity=S, \n                               Vadc=VADC)]\n    leq_list+=[spl.psd2leq(mean_PSD[util.index_bw(fn,(7000,8000))], \n                               gain=G, \n                               sensitivity=S, \n                               Vadc=VADC)]\n    leq_list+=[spl.psd2leq(mean_PSD[util.index_bw(fn,(8000,9000))], \n                               gain=G, \n                               sensitivity=S, \n                               Vadc=VADC)]\n    leq_list+=[spl.psd2leq(mean_PSD[util.index_bw(fn,(9000,10000))], \n                               gain=G, \n                               sensitivity=S, \n                               Vadc=VADC)]\n    leq_list+=[spl.psd2leq(mean_PSD[util.index_bw(fn,(10000,11000))], \n                               gain=G, \n                               sensitivity=S, \n                               Vadc=VADC)]\n    \n    #### Create a dataframe from the list\n    df_leq = pd.DataFrame([leq_list],\n                          columns = ['0-1kHz', \n                                     '1-2kHz',\n                                     '2-3kHz',\n                                     '3-4kHz',\n                                     '4-5kHz',\n                                     '5-6kHz',\n                                     '6-7kHz',\n                                     '7-8kHz',\n                                     '8-9kHz',\n                                     '9-10kHz',\n                                     '10-11kHz',\n                                     ])\n    \n    #%%\n    \"\"\" =======================================================================\n                     Create a dataframe \n    ========================================================================\"\"\"\n    #### We create a dataframe from row that contains the date and the \n    # full filename. This is done by creating a DataFrame from row (ie. TimeSeries)\n    # then transposing the DataFrame. \n    df_row = pd.DataFrame(row)\n    df_row =df_row.T\n    df_row.index.name = 'Date'\n    df_row = df_row.reset_index()\n\n    #### add Leq values into the df_spl dataframe\n    df_spl = df_spl.append(pd.concat([df_row, df_leq], axis=1))\n\n#### When the loop ends, set Date as index\ndf_spl = df_spl.set_index('Date')"
      ]
    },
    {
      "cell_type": "markdown",
      "metadata": {},
      "source": [
        "Display results\n---------------\nDisplay Leq (dB SPL) dynamics for each frequency band.\nOne can observe that most of the acoustic energy is between 0-1kHz. Moreover\nthe sound pressure level of the 0-1kHz frequency band is not constant but \nincreases during the day, from 4am to 22pm with a maximum between at 10am \nThis is mainly due to the airplanes flying over the forest during the day.\nOne can also observe that the energy of the biophony is really lower than \nthe energy of the low frequency band. The sound pressure level of the biophony\nis the highest between 5am to 9am, which corresponds to the dawn chorus\n\n"
      ]
    },
    {
      "cell_type": "code",
      "execution_count": null,
      "metadata": {
        "collapsed": false
      },
      "outputs": [],
      "source": [
        "plt.style.use('ggplot')\ndf_spl_rev = df_spl.iloc[:,::-1]\nutil.plot_features_map(df_spl_rev, norm=False, cmap='RdPu')\nplt.xlabel('Hours')\nplt.ylabel('Frequency')\nplt.tight_layout()"
      ]
    },
    {
      "cell_type": "markdown",
      "metadata": {},
      "source": [
        "Display the comparison between the dynamics of the Leq (dB SPL) corresponding \nmainly to the anthropophony (frequency band 0-1kHz) and the biophony \n(frequency band 1-12kHz)\n\n"
      ]
    },
    {
      "cell_type": "code",
      "execution_count": null,
      "metadata": {
        "collapsed": false
      },
      "outputs": [],
      "source": [
        "plt.figure(figsize=[7,4])\ndf_spl.iloc[:,1].apply(util.add_dB, axis=1).plot()\ndf_spl.iloc[:,2:].apply(util.add_dB, axis=1).plot()\nplt.xlabel('Hours')\nplt.ylabel('Sound Pressure Level (dB SPL)')\nplt.legend(['anthropophony', 'biophony'])\nplt.tight_layout()\nplt.show()"
      ]
    }
  ],
  "metadata": {
    "kernelspec": {
      "display_name": "Python 3",
      "language": "python",
      "name": "python3"
    },
    "language_info": {
      "codemirror_mode": {
        "name": "ipython",
        "version": 3
      },
      "file_extension": ".py",
      "mimetype": "text/x-python",
      "name": "python",
      "nbconvert_exporter": "python",
      "pygments_lexer": "ipython3",
      "version": "3.7.5"
    }
  },
  "nbformat": 4,
  "nbformat_minor": 0
}