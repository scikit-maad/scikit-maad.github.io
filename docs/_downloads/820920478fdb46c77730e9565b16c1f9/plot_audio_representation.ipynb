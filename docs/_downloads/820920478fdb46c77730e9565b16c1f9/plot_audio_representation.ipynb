{
  "cells": [
    {
      "cell_type": "code",
      "execution_count": null,
      "metadata": {
        "collapsed": false
      },
      "outputs": [],
      "source": [
        "%matplotlib inline"
      ]
    },
    {
      "cell_type": "markdown",
      "metadata": {},
      "source": [
        "\nAudio representation\n====================\n\nAn audio signal can be represented in both, temporal and spectral domains. \nThese representations are complementary and fundamental to understand the audio\nsignal characteristics. In this introductory example we will load an audio signal, \napply basic transformations to better understand its features in time and frequency.\n"
      ]
    },
    {
      "cell_type": "markdown",
      "metadata": {},
      "source": [
        "Load an audio file and plot the waveform\n\n"
      ]
    },
    {
      "cell_type": "code",
      "execution_count": null,
      "metadata": {
        "collapsed": false
      },
      "outputs": [],
      "source": [
        "import matplotlib.pyplot as plt\nfrom maad import sound\nfrom maad import util\n\ns, fs = sound.load('../../data/spinetail.wav')\nutil.plot_wave(s, fs)"
      ]
    },
    {
      "cell_type": "markdown",
      "metadata": {},
      "source": [
        "It can be noticed that in this audio there are four consecutive songs of the spinetail \n*Cranioleuca erythorps*, every song lasting of approximatelly two seconds. \nLet's trim the signal to zoom in on the details of the song.\n\n"
      ]
    },
    {
      "cell_type": "code",
      "execution_count": null,
      "metadata": {
        "collapsed": false
      },
      "outputs": [],
      "source": [
        "s_trim = sound.trim(s, fs, 5, 8)"
      ]
    },
    {
      "cell_type": "markdown",
      "metadata": {},
      "source": [
        "Onced trimmed, lets compute the envelope of the signal, the Fourier and short-time Fourier transforms.\n\n"
      ]
    },
    {
      "cell_type": "code",
      "execution_count": null,
      "metadata": {
        "collapsed": false
      },
      "outputs": [],
      "source": [
        "env = sound.envelope(s_trim, mode='fast', Nt=128)\npxx, fidx = sound.spectrum(s, fs, nperseg=1024, method='welch')\nSxx, tn, fn, ext = sound.spectrogram(s_trim, fs, window='hann', nperseg=1024, noverlap=512)"
      ]
    },
    {
      "cell_type": "markdown",
      "metadata": {},
      "source": [
        "Finally, we can visualize the signal characteristics in the temporal and \nspectral domains.\n\n"
      ]
    },
    {
      "cell_type": "code",
      "execution_count": null,
      "metadata": {
        "collapsed": false
      },
      "outputs": [],
      "source": [
        "fig, ax = plt.subplots(4,1, figsize=(8,10))\nutil.plot_wave(s_trim, fs, ax=ax[0])\nutil.plot_wave(env, fs, ax=ax[1])\nutil.plot_spectrum(pxx, fidx, ax=ax[2])\nutil.plot_spectrogram(Sxx, extent=ext, ax=ax[3], colorbar=False)"
      ]
    }
  ],
  "metadata": {
    "kernelspec": {
      "display_name": "Python 3",
      "language": "python",
      "name": "python3"
    },
    "language_info": {
      "codemirror_mode": {
        "name": "ipython",
        "version": 3
      },
      "file_extension": ".py",
      "mimetype": "text/x-python",
      "name": "python",
      "nbconvert_exporter": "python",
      "pygments_lexer": "ipython3",
      "version": "3.7.5"
    }
  },
  "nbformat": 4,
  "nbformat_minor": 0
}